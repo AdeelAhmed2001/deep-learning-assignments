{
  "nbformat": 4,
  "nbformat_minor": 0,
  "metadata": {
    "colab": {
      "name": "Car Price Prediction assignment.ipynb",
      "provenance": [],
      "authorship_tag": "ABX9TyNLhLOlxcQNVL3Hu1QDBt1i",
      "include_colab_link": true
    },
    "kernelspec": {
      "display_name": "Python 3",
      "name": "python3"
    },
    "language_info": {
      "name": "python"
    }
  },
  "cells": [
    {
      "cell_type": "markdown",
      "metadata": {
        "id": "view-in-github",
        "colab_type": "text"
      },
      "source": [
        "<a href=\"https://colab.research.google.com/github/AdeelAhmed2001/deep-learning-assignments/blob/main/Car_Price_Prediction_assignment.ipynb\" target=\"_parent\"><img src=\"https://colab.research.google.com/assets/colab-badge.svg\" alt=\"Open In Colab\"/></a>"
      ]
    },
    {
      "cell_type": "code",
      "metadata": {
        "id": "ffyhLHOU_XQx"
      },
      "source": [
        "import pandas as pd\n",
        "import numpy as np\n",
        "import tensorflow as tf\n",
        "from tensorflow.keras import models\n",
        "from tensorflow.keras import layers\n",
        "from tensorflow.keras import optimizers"
      ],
      "execution_count": 1,
      "outputs": []
    },
    {
      "cell_type": "code",
      "metadata": {
        "colab": {
          "base_uri": "https://localhost:8080/",
          "height": 275
        },
        "id": "-lwi4ed3bLBC",
        "outputId": "02737f72-984d-4ba4-bd54-66661919a97b"
      },
      "source": [
        "cpc_data=pd.read_csv(\"CarPrice_Assignment.csv\")\n",
        "display(cpc_data.head (n=5))\n"
      ],
      "execution_count": 32,
      "outputs": [
        {
          "output_type": "display_data",
          "data": {
            "text/html": [
              "<div>\n",
              "<style scoped>\n",
              "    .dataframe tbody tr th:only-of-type {\n",
              "        vertical-align: middle;\n",
              "    }\n",
              "\n",
              "    .dataframe tbody tr th {\n",
              "        vertical-align: top;\n",
              "    }\n",
              "\n",
              "    .dataframe thead th {\n",
              "        text-align: right;\n",
              "    }\n",
              "</style>\n",
              "<table border=\"1\" class=\"dataframe\">\n",
              "  <thead>\n",
              "    <tr style=\"text-align: right;\">\n",
              "      <th></th>\n",
              "      <th>car_ID</th>\n",
              "      <th>symboling</th>\n",
              "      <th>CarName</th>\n",
              "      <th>fueltype</th>\n",
              "      <th>aspiration</th>\n",
              "      <th>doornumber</th>\n",
              "      <th>carbody</th>\n",
              "      <th>drivewheel</th>\n",
              "      <th>enginelocation</th>\n",
              "      <th>wheelbase</th>\n",
              "      <th>carlength</th>\n",
              "      <th>carwidth</th>\n",
              "      <th>carheight</th>\n",
              "      <th>curbweight</th>\n",
              "      <th>enginetype</th>\n",
              "      <th>cylindernumber</th>\n",
              "      <th>enginesize</th>\n",
              "      <th>fuelsystem</th>\n",
              "      <th>boreratio</th>\n",
              "      <th>stroke</th>\n",
              "      <th>compressionratio</th>\n",
              "      <th>horsepower</th>\n",
              "      <th>peakrpm</th>\n",
              "      <th>citympg</th>\n",
              "      <th>highwaympg</th>\n",
              "      <th>price</th>\n",
              "    </tr>\n",
              "  </thead>\n",
              "  <tbody>\n",
              "    <tr>\n",
              "      <th>0</th>\n",
              "      <td>1</td>\n",
              "      <td>3</td>\n",
              "      <td>alfa-romero giulia</td>\n",
              "      <td>gas</td>\n",
              "      <td>std</td>\n",
              "      <td>two</td>\n",
              "      <td>convertible</td>\n",
              "      <td>rwd</td>\n",
              "      <td>front</td>\n",
              "      <td>88.6</td>\n",
              "      <td>168.8</td>\n",
              "      <td>64.1</td>\n",
              "      <td>48.8</td>\n",
              "      <td>2548</td>\n",
              "      <td>dohc</td>\n",
              "      <td>four</td>\n",
              "      <td>130</td>\n",
              "      <td>mpfi</td>\n",
              "      <td>3.47</td>\n",
              "      <td>2.68</td>\n",
              "      <td>9.0</td>\n",
              "      <td>111</td>\n",
              "      <td>5000</td>\n",
              "      <td>21</td>\n",
              "      <td>27</td>\n",
              "      <td>13495.0</td>\n",
              "    </tr>\n",
              "    <tr>\n",
              "      <th>1</th>\n",
              "      <td>2</td>\n",
              "      <td>3</td>\n",
              "      <td>alfa-romero stelvio</td>\n",
              "      <td>gas</td>\n",
              "      <td>std</td>\n",
              "      <td>two</td>\n",
              "      <td>convertible</td>\n",
              "      <td>rwd</td>\n",
              "      <td>front</td>\n",
              "      <td>88.6</td>\n",
              "      <td>168.8</td>\n",
              "      <td>64.1</td>\n",
              "      <td>48.8</td>\n",
              "      <td>2548</td>\n",
              "      <td>dohc</td>\n",
              "      <td>four</td>\n",
              "      <td>130</td>\n",
              "      <td>mpfi</td>\n",
              "      <td>3.47</td>\n",
              "      <td>2.68</td>\n",
              "      <td>9.0</td>\n",
              "      <td>111</td>\n",
              "      <td>5000</td>\n",
              "      <td>21</td>\n",
              "      <td>27</td>\n",
              "      <td>16500.0</td>\n",
              "    </tr>\n",
              "    <tr>\n",
              "      <th>2</th>\n",
              "      <td>3</td>\n",
              "      <td>1</td>\n",
              "      <td>alfa-romero Quadrifoglio</td>\n",
              "      <td>gas</td>\n",
              "      <td>std</td>\n",
              "      <td>two</td>\n",
              "      <td>hatchback</td>\n",
              "      <td>rwd</td>\n",
              "      <td>front</td>\n",
              "      <td>94.5</td>\n",
              "      <td>171.2</td>\n",
              "      <td>65.5</td>\n",
              "      <td>52.4</td>\n",
              "      <td>2823</td>\n",
              "      <td>ohcv</td>\n",
              "      <td>six</td>\n",
              "      <td>152</td>\n",
              "      <td>mpfi</td>\n",
              "      <td>2.68</td>\n",
              "      <td>3.47</td>\n",
              "      <td>9.0</td>\n",
              "      <td>154</td>\n",
              "      <td>5000</td>\n",
              "      <td>19</td>\n",
              "      <td>26</td>\n",
              "      <td>16500.0</td>\n",
              "    </tr>\n",
              "    <tr>\n",
              "      <th>3</th>\n",
              "      <td>4</td>\n",
              "      <td>2</td>\n",
              "      <td>audi 100 ls</td>\n",
              "      <td>gas</td>\n",
              "      <td>std</td>\n",
              "      <td>four</td>\n",
              "      <td>sedan</td>\n",
              "      <td>fwd</td>\n",
              "      <td>front</td>\n",
              "      <td>99.8</td>\n",
              "      <td>176.6</td>\n",
              "      <td>66.2</td>\n",
              "      <td>54.3</td>\n",
              "      <td>2337</td>\n",
              "      <td>ohc</td>\n",
              "      <td>four</td>\n",
              "      <td>109</td>\n",
              "      <td>mpfi</td>\n",
              "      <td>3.19</td>\n",
              "      <td>3.40</td>\n",
              "      <td>10.0</td>\n",
              "      <td>102</td>\n",
              "      <td>5500</td>\n",
              "      <td>24</td>\n",
              "      <td>30</td>\n",
              "      <td>13950.0</td>\n",
              "    </tr>\n",
              "    <tr>\n",
              "      <th>4</th>\n",
              "      <td>5</td>\n",
              "      <td>2</td>\n",
              "      <td>audi 100ls</td>\n",
              "      <td>gas</td>\n",
              "      <td>std</td>\n",
              "      <td>four</td>\n",
              "      <td>sedan</td>\n",
              "      <td>4wd</td>\n",
              "      <td>front</td>\n",
              "      <td>99.4</td>\n",
              "      <td>176.6</td>\n",
              "      <td>66.4</td>\n",
              "      <td>54.3</td>\n",
              "      <td>2824</td>\n",
              "      <td>ohc</td>\n",
              "      <td>five</td>\n",
              "      <td>136</td>\n",
              "      <td>mpfi</td>\n",
              "      <td>3.19</td>\n",
              "      <td>3.40</td>\n",
              "      <td>8.0</td>\n",
              "      <td>115</td>\n",
              "      <td>5500</td>\n",
              "      <td>18</td>\n",
              "      <td>22</td>\n",
              "      <td>17450.0</td>\n",
              "    </tr>\n",
              "  </tbody>\n",
              "</table>\n",
              "</div>"
            ],
            "text/plain": [
              "   car_ID  symboling                   CarName  ... citympg highwaympg    price\n",
              "0       1          3        alfa-romero giulia  ...      21         27  13495.0\n",
              "1       2          3       alfa-romero stelvio  ...      21         27  16500.0\n",
              "2       3          1  alfa-romero Quadrifoglio  ...      19         26  16500.0\n",
              "3       4          2               audi 100 ls  ...      24         30  13950.0\n",
              "4       5          2                audi 100ls  ...      18         22  17450.0\n",
              "\n",
              "[5 rows x 26 columns]"
            ]
          },
          "metadata": {
            "tags": []
          }
        }
      ]
    },
    {
      "cell_type": "code",
      "metadata": {
        "colab": {
          "base_uri": "https://localhost:8080/"
        },
        "id": "GDgJGfYebtuM",
        "outputId": "022ae241-71c4-4ae8-a546-4f51de3040b7"
      },
      "source": [
        "cpc_data.shape"
      ],
      "execution_count": 33,
      "outputs": [
        {
          "output_type": "execute_result",
          "data": {
            "text/plain": [
              "(205, 26)"
            ]
          },
          "metadata": {
            "tags": []
          },
          "execution_count": 33
        }
      ]
    },
    {
      "cell_type": "code",
      "metadata": {
        "colab": {
          "base_uri": "https://localhost:8080/"
        },
        "id": "ev1cYBwamE0u",
        "outputId": "332861c6-d3a4-45ba-d8ba-2071cc0ac7fa"
      },
      "source": [
        "cpc_data.ndim"
      ],
      "execution_count": 34,
      "outputs": [
        {
          "output_type": "execute_result",
          "data": {
            "text/plain": [
              "2"
            ]
          },
          "metadata": {
            "tags": []
          },
          "execution_count": 34
        }
      ]
    },
    {
      "cell_type": "code",
      "metadata": {
        "colab": {
          "base_uri": "https://localhost:8080/"
        },
        "id": "UfhtJtP5b7B8",
        "outputId": "a2c83c47-3da0-4fd9-b6f7-20b0fbe3792f"
      },
      "source": [
        "\n",
        "cpc_data.iloc[4]"
      ],
      "execution_count": 35,
      "outputs": [
        {
          "output_type": "execute_result",
          "data": {
            "text/plain": [
              "car_ID                       5\n",
              "symboling                    2\n",
              "CarName             audi 100ls\n",
              "fueltype                   gas\n",
              "aspiration                 std\n",
              "doornumber                four\n",
              "carbody                  sedan\n",
              "drivewheel                 4wd\n",
              "enginelocation           front\n",
              "wheelbase                 99.4\n",
              "carlength                176.6\n",
              "carwidth                  66.4\n",
              "carheight                 54.3\n",
              "curbweight                2824\n",
              "enginetype                 ohc\n",
              "cylindernumber            five\n",
              "enginesize                 136\n",
              "fuelsystem                mpfi\n",
              "boreratio                 3.19\n",
              "stroke                     3.4\n",
              "compressionratio             8\n",
              "horsepower                 115\n",
              "peakrpm                   5500\n",
              "citympg                     18\n",
              "highwaympg                  22\n",
              "price                    17450\n",
              "Name: 4, dtype: object"
            ]
          },
          "metadata": {
            "tags": []
          },
          "execution_count": 35
        }
      ]
    },
    {
      "cell_type": "code",
      "metadata": {
        "colab": {
          "base_uri": "https://localhost:8080/"
        },
        "id": "syhzshXUb9Js",
        "outputId": "15937455-4912-4289-880c-30281dfa8c35"
      },
      "source": [
        "cpc_data.info()"
      ],
      "execution_count": 36,
      "outputs": [
        {
          "output_type": "stream",
          "text": [
            "<class 'pandas.core.frame.DataFrame'>\n",
            "RangeIndex: 205 entries, 0 to 204\n",
            "Data columns (total 26 columns):\n",
            " #   Column            Non-Null Count  Dtype  \n",
            "---  ------            --------------  -----  \n",
            " 0   car_ID            205 non-null    int64  \n",
            " 1   symboling         205 non-null    int64  \n",
            " 2   CarName           205 non-null    object \n",
            " 3   fueltype          205 non-null    object \n",
            " 4   aspiration        205 non-null    object \n",
            " 5   doornumber        205 non-null    object \n",
            " 6   carbody           205 non-null    object \n",
            " 7   drivewheel        205 non-null    object \n",
            " 8   enginelocation    205 non-null    object \n",
            " 9   wheelbase         205 non-null    float64\n",
            " 10  carlength         205 non-null    float64\n",
            " 11  carwidth          205 non-null    float64\n",
            " 12  carheight         205 non-null    float64\n",
            " 13  curbweight        205 non-null    int64  \n",
            " 14  enginetype        205 non-null    object \n",
            " 15  cylindernumber    205 non-null    object \n",
            " 16  enginesize        205 non-null    int64  \n",
            " 17  fuelsystem        205 non-null    object \n",
            " 18  boreratio         205 non-null    float64\n",
            " 19  stroke            205 non-null    float64\n",
            " 20  compressionratio  205 non-null    float64\n",
            " 21  horsepower        205 non-null    int64  \n",
            " 22  peakrpm           205 non-null    int64  \n",
            " 23  citympg           205 non-null    int64  \n",
            " 24  highwaympg        205 non-null    int64  \n",
            " 25  price             205 non-null    float64\n",
            "dtypes: float64(8), int64(8), object(10)\n",
            "memory usage: 41.8+ KB\n"
          ],
          "name": "stdout"
        }
      ]
    },
    {
      "cell_type": "code",
      "metadata": {
        "colab": {
          "base_uri": "https://localhost:8080/"
        },
        "id": "pG8gktNNcIOj",
        "outputId": "c4abd0c4-769c-453f-9803-ab92a709f87d"
      },
      "source": [
        "\n",
        "pd.isnull(cpc_data).sum()"
      ],
      "execution_count": 37,
      "outputs": [
        {
          "output_type": "execute_result",
          "data": {
            "text/plain": [
              "car_ID              0\n",
              "symboling           0\n",
              "CarName             0\n",
              "fueltype            0\n",
              "aspiration          0\n",
              "doornumber          0\n",
              "carbody             0\n",
              "drivewheel          0\n",
              "enginelocation      0\n",
              "wheelbase           0\n",
              "carlength           0\n",
              "carwidth            0\n",
              "carheight           0\n",
              "curbweight          0\n",
              "enginetype          0\n",
              "cylindernumber      0\n",
              "enginesize          0\n",
              "fuelsystem          0\n",
              "boreratio           0\n",
              "stroke              0\n",
              "compressionratio    0\n",
              "horsepower          0\n",
              "peakrpm             0\n",
              "citympg             0\n",
              "highwaympg          0\n",
              "price               0\n",
              "dtype: int64"
            ]
          },
          "metadata": {
            "tags": []
          },
          "execution_count": 37
        }
      ]
    },
    {
      "cell_type": "code",
      "metadata": {
        "id": "-w-xJhe6cRx7"
      },
      "source": [
        "from sklearn.preprocessing import LabelEncoder\n",
        "labelencoder = LabelEncoder()\n",
        "cpc_data['fueltype'] = labelencoder.fit_transform(cpc_data['fueltype'])\n",
        "cpc_data['aspiration'] = labelencoder.fit_transform(cpc_data['aspiration'])\n",
        "cpc_data['carbody'] = labelencoder.fit_transform(cpc_data['carbody'])\n",
        "cpc_data['drivewheel'] = labelencoder.fit_transform(cpc_data['drivewheel'])\n",
        "cpc_data['enginelocation'] = labelencoder.fit_transform(cpc_data['enginelocation'])\n",
        "cpc_data['fuelsystem'] = labelencoder.fit_transform(cpc_data['enginelocation'])\n",
        "cpc_data[\"cylindernumber\"]=labelencoder.fit_transform(cpc_data[\"cylindernumber\"])\n",
        "cpc_data['enginetype'] = labelencoder.fit_transform(cpc_data['enginetype'])\n",
        "cpc_data['doornumber'] = labelencoder.fit_transform(cpc_data['doornumber'])\n",
        "cpc_data['doornumber'] = labelencoder.fit_transform(cpc_data['doornumber'])\n",
        "cpc_data['CarName'] = labelencoder.fit_transform(cpc_data['CarName'])"
      ],
      "execution_count": 38,
      "outputs": []
    },
    {
      "cell_type": "code",
      "metadata": {
        "colab": {
          "base_uri": "https://localhost:8080/",
          "height": 224
        },
        "id": "_rX_lb3Hesls",
        "outputId": "83c9bf4f-a5d1-4780-936f-49e3828cb6f7"
      },
      "source": [
        "cpc_data.head()"
      ],
      "execution_count": 39,
      "outputs": [
        {
          "output_type": "execute_result",
          "data": {
            "text/html": [
              "<div>\n",
              "<style scoped>\n",
              "    .dataframe tbody tr th:only-of-type {\n",
              "        vertical-align: middle;\n",
              "    }\n",
              "\n",
              "    .dataframe tbody tr th {\n",
              "        vertical-align: top;\n",
              "    }\n",
              "\n",
              "    .dataframe thead th {\n",
              "        text-align: right;\n",
              "    }\n",
              "</style>\n",
              "<table border=\"1\" class=\"dataframe\">\n",
              "  <thead>\n",
              "    <tr style=\"text-align: right;\">\n",
              "      <th></th>\n",
              "      <th>car_ID</th>\n",
              "      <th>symboling</th>\n",
              "      <th>CarName</th>\n",
              "      <th>fueltype</th>\n",
              "      <th>aspiration</th>\n",
              "      <th>doornumber</th>\n",
              "      <th>carbody</th>\n",
              "      <th>drivewheel</th>\n",
              "      <th>enginelocation</th>\n",
              "      <th>wheelbase</th>\n",
              "      <th>carlength</th>\n",
              "      <th>carwidth</th>\n",
              "      <th>carheight</th>\n",
              "      <th>curbweight</th>\n",
              "      <th>enginetype</th>\n",
              "      <th>cylindernumber</th>\n",
              "      <th>enginesize</th>\n",
              "      <th>fuelsystem</th>\n",
              "      <th>boreratio</th>\n",
              "      <th>stroke</th>\n",
              "      <th>compressionratio</th>\n",
              "      <th>horsepower</th>\n",
              "      <th>peakrpm</th>\n",
              "      <th>citympg</th>\n",
              "      <th>highwaympg</th>\n",
              "      <th>price</th>\n",
              "    </tr>\n",
              "  </thead>\n",
              "  <tbody>\n",
              "    <tr>\n",
              "      <th>0</th>\n",
              "      <td>1</td>\n",
              "      <td>3</td>\n",
              "      <td>2</td>\n",
              "      <td>1</td>\n",
              "      <td>0</td>\n",
              "      <td>1</td>\n",
              "      <td>0</td>\n",
              "      <td>2</td>\n",
              "      <td>0</td>\n",
              "      <td>88.6</td>\n",
              "      <td>168.8</td>\n",
              "      <td>64.1</td>\n",
              "      <td>48.8</td>\n",
              "      <td>2548</td>\n",
              "      <td>0</td>\n",
              "      <td>2</td>\n",
              "      <td>130</td>\n",
              "      <td>0</td>\n",
              "      <td>3.47</td>\n",
              "      <td>2.68</td>\n",
              "      <td>9.0</td>\n",
              "      <td>111</td>\n",
              "      <td>5000</td>\n",
              "      <td>21</td>\n",
              "      <td>27</td>\n",
              "      <td>13495.0</td>\n",
              "    </tr>\n",
              "    <tr>\n",
              "      <th>1</th>\n",
              "      <td>2</td>\n",
              "      <td>3</td>\n",
              "      <td>3</td>\n",
              "      <td>1</td>\n",
              "      <td>0</td>\n",
              "      <td>1</td>\n",
              "      <td>0</td>\n",
              "      <td>2</td>\n",
              "      <td>0</td>\n",
              "      <td>88.6</td>\n",
              "      <td>168.8</td>\n",
              "      <td>64.1</td>\n",
              "      <td>48.8</td>\n",
              "      <td>2548</td>\n",
              "      <td>0</td>\n",
              "      <td>2</td>\n",
              "      <td>130</td>\n",
              "      <td>0</td>\n",
              "      <td>3.47</td>\n",
              "      <td>2.68</td>\n",
              "      <td>9.0</td>\n",
              "      <td>111</td>\n",
              "      <td>5000</td>\n",
              "      <td>21</td>\n",
              "      <td>27</td>\n",
              "      <td>16500.0</td>\n",
              "    </tr>\n",
              "    <tr>\n",
              "      <th>2</th>\n",
              "      <td>3</td>\n",
              "      <td>1</td>\n",
              "      <td>1</td>\n",
              "      <td>1</td>\n",
              "      <td>0</td>\n",
              "      <td>1</td>\n",
              "      <td>2</td>\n",
              "      <td>2</td>\n",
              "      <td>0</td>\n",
              "      <td>94.5</td>\n",
              "      <td>171.2</td>\n",
              "      <td>65.5</td>\n",
              "      <td>52.4</td>\n",
              "      <td>2823</td>\n",
              "      <td>5</td>\n",
              "      <td>3</td>\n",
              "      <td>152</td>\n",
              "      <td>0</td>\n",
              "      <td>2.68</td>\n",
              "      <td>3.47</td>\n",
              "      <td>9.0</td>\n",
              "      <td>154</td>\n",
              "      <td>5000</td>\n",
              "      <td>19</td>\n",
              "      <td>26</td>\n",
              "      <td>16500.0</td>\n",
              "    </tr>\n",
              "    <tr>\n",
              "      <th>3</th>\n",
              "      <td>4</td>\n",
              "      <td>2</td>\n",
              "      <td>4</td>\n",
              "      <td>1</td>\n",
              "      <td>0</td>\n",
              "      <td>0</td>\n",
              "      <td>3</td>\n",
              "      <td>1</td>\n",
              "      <td>0</td>\n",
              "      <td>99.8</td>\n",
              "      <td>176.6</td>\n",
              "      <td>66.2</td>\n",
              "      <td>54.3</td>\n",
              "      <td>2337</td>\n",
              "      <td>3</td>\n",
              "      <td>2</td>\n",
              "      <td>109</td>\n",
              "      <td>0</td>\n",
              "      <td>3.19</td>\n",
              "      <td>3.40</td>\n",
              "      <td>10.0</td>\n",
              "      <td>102</td>\n",
              "      <td>5500</td>\n",
              "      <td>24</td>\n",
              "      <td>30</td>\n",
              "      <td>13950.0</td>\n",
              "    </tr>\n",
              "    <tr>\n",
              "      <th>4</th>\n",
              "      <td>5</td>\n",
              "      <td>2</td>\n",
              "      <td>5</td>\n",
              "      <td>1</td>\n",
              "      <td>0</td>\n",
              "      <td>0</td>\n",
              "      <td>3</td>\n",
              "      <td>0</td>\n",
              "      <td>0</td>\n",
              "      <td>99.4</td>\n",
              "      <td>176.6</td>\n",
              "      <td>66.4</td>\n",
              "      <td>54.3</td>\n",
              "      <td>2824</td>\n",
              "      <td>3</td>\n",
              "      <td>1</td>\n",
              "      <td>136</td>\n",
              "      <td>0</td>\n",
              "      <td>3.19</td>\n",
              "      <td>3.40</td>\n",
              "      <td>8.0</td>\n",
              "      <td>115</td>\n",
              "      <td>5500</td>\n",
              "      <td>18</td>\n",
              "      <td>22</td>\n",
              "      <td>17450.0</td>\n",
              "    </tr>\n",
              "  </tbody>\n",
              "</table>\n",
              "</div>"
            ],
            "text/plain": [
              "   car_ID  symboling  CarName  fueltype  ...  peakrpm  citympg  highwaympg    price\n",
              "0       1          3        2         1  ...     5000       21          27  13495.0\n",
              "1       2          3        3         1  ...     5000       21          27  16500.0\n",
              "2       3          1        1         1  ...     5000       19          26  16500.0\n",
              "3       4          2        4         1  ...     5500       24          30  13950.0\n",
              "4       5          2        5         1  ...     5500       18          22  17450.0\n",
              "\n",
              "[5 rows x 26 columns]"
            ]
          },
          "metadata": {
            "tags": []
          },
          "execution_count": 39
        }
      ]
    },
    {
      "cell_type": "code",
      "metadata": {
        "colab": {
          "base_uri": "https://localhost:8080/"
        },
        "id": "JmEpVudJq_9f",
        "outputId": "ba9e5a73-0b84-4cbc-9a2f-cea9e3532534"
      },
      "source": [
        "cpc_data.info()"
      ],
      "execution_count": 40,
      "outputs": [
        {
          "output_type": "stream",
          "text": [
            "<class 'pandas.core.frame.DataFrame'>\n",
            "RangeIndex: 205 entries, 0 to 204\n",
            "Data columns (total 26 columns):\n",
            " #   Column            Non-Null Count  Dtype  \n",
            "---  ------            --------------  -----  \n",
            " 0   car_ID            205 non-null    int64  \n",
            " 1   symboling         205 non-null    int64  \n",
            " 2   CarName           205 non-null    int64  \n",
            " 3   fueltype          205 non-null    int64  \n",
            " 4   aspiration        205 non-null    int64  \n",
            " 5   doornumber        205 non-null    int64  \n",
            " 6   carbody           205 non-null    int64  \n",
            " 7   drivewheel        205 non-null    int64  \n",
            " 8   enginelocation    205 non-null    int64  \n",
            " 9   wheelbase         205 non-null    float64\n",
            " 10  carlength         205 non-null    float64\n",
            " 11  carwidth          205 non-null    float64\n",
            " 12  carheight         205 non-null    float64\n",
            " 13  curbweight        205 non-null    int64  \n",
            " 14  enginetype        205 non-null    int64  \n",
            " 15  cylindernumber    205 non-null    int64  \n",
            " 16  enginesize        205 non-null    int64  \n",
            " 17  fuelsystem        205 non-null    int64  \n",
            " 18  boreratio         205 non-null    float64\n",
            " 19  stroke            205 non-null    float64\n",
            " 20  compressionratio  205 non-null    float64\n",
            " 21  horsepower        205 non-null    int64  \n",
            " 22  peakrpm           205 non-null    int64  \n",
            " 23  citympg           205 non-null    int64  \n",
            " 24  highwaympg        205 non-null    int64  \n",
            " 25  price             205 non-null    float64\n",
            "dtypes: float64(8), int64(18)\n",
            "memory usage: 41.8 KB\n"
          ],
          "name": "stdout"
        }
      ]
    },
    {
      "cell_type": "code",
      "metadata": {
        "colab": {
          "base_uri": "https://localhost:8080/"
        },
        "id": "HOxOeA6beyve",
        "outputId": "19165b96-2e0b-4074-a571-7ae35a26bc1e"
      },
      "source": [
        "cpc_data[\"carheight\"]"
      ],
      "execution_count": 41,
      "outputs": [
        {
          "output_type": "execute_result",
          "data": {
            "text/plain": [
              "0      48.8\n",
              "1      48.8\n",
              "2      52.4\n",
              "3      54.3\n",
              "4      54.3\n",
              "       ... \n",
              "200    55.5\n",
              "201    55.5\n",
              "202    55.5\n",
              "203    55.5\n",
              "204    55.5\n",
              "Name: carheight, Length: 205, dtype: float64"
            ]
          },
          "metadata": {
            "tags": []
          },
          "execution_count": 41
        }
      ]
    },
    {
      "cell_type": "code",
      "metadata": {
        "id": "NxbvD7fuf95L"
      },
      "source": [
        "x=cpc_data.loc[0:,\"car_ID\":\"highwaympg\"]\n",
        "y=cpc_data.loc[0:,\"price\"]\n"
      ],
      "execution_count": 42,
      "outputs": []
    },
    {
      "cell_type": "code",
      "metadata": {
        "id": "F-CjoSvfqjxe"
      },
      "source": [
        "from sklearn.model_selection import train_test_split\n",
        "train_data,test_data,train_labels,test_labels=train_test_split(x,y,test_size=0.30,random_state=42)"
      ],
      "execution_count": 43,
      "outputs": []
    },
    {
      "cell_type": "code",
      "metadata": {
        "id": "yr0GVTgcq4hN"
      },
      "source": [
        "train_data=np.asarray(train_data).astype(\"float32\")\n",
        "test_data=np.asarray(test_data).astype(\"float32\")\n"
      ],
      "execution_count": 44,
      "outputs": []
    },
    {
      "cell_type": "code",
      "metadata": {
        "colab": {
          "base_uri": "https://localhost:8080/"
        },
        "id": "mWJTG33urMes",
        "outputId": "87f3586a-f732-48f3-b905-a746049159cb"
      },
      "source": [
        "test_data[5]"
      ],
      "execution_count": 45,
      "outputs": [
        {
          "output_type": "execute_result",
          "data": {
            "text/plain": [
              "array([9.600e+01, 1.000e+00, 7.400e+01, 1.000e+00, 0.000e+00, 1.000e+00,\n",
              "       2.000e+00, 1.000e+00, 0.000e+00, 9.450e+01, 1.656e+02, 6.380e+01,\n",
              "       5.330e+01, 2.028e+03, 3.000e+00, 2.000e+00, 9.700e+01, 0.000e+00,\n",
              "       3.150e+00, 3.290e+00, 9.400e+00, 6.900e+01, 5.200e+03, 3.100e+01,\n",
              "       3.700e+01], dtype=float32)"
            ]
          },
          "metadata": {
            "tags": []
          },
          "execution_count": 45
        }
      ]
    },
    {
      "cell_type": "code",
      "metadata": {
        "id": "JW53IugPq9Ot"
      },
      "source": [
        "train_labels=np.asarray(train_labels).astype(\"float32\")\n",
        "test_labels=np.asarray(test_labels).astype(\"float32\")"
      ],
      "execution_count": 46,
      "outputs": []
    },
    {
      "cell_type": "code",
      "metadata": {
        "colab": {
          "base_uri": "https://localhost:8080/"
        },
        "id": "6HlWV1B8rJ30",
        "outputId": "378febd3-8249-47b8-fc4a-2ca6939a34a5"
      },
      "source": [
        "\n",
        "test_labels"
      ],
      "execution_count": 47,
      "outputs": [
        {
          "output_type": "execute_result",
          "data": {
            "text/plain": [
              "array([30760.   , 17859.168,  9549.   , 11850.   , 28248.   ,  7799.   ,\n",
              "        7788.   ,  9258.   , 10198.   ,  7775.   , 13295.   ,  8238.   ,\n",
              "       18280.   ,  9988.   , 40960.   ,  6488.   ,  5151.   , 12629.   ,\n",
              "        8189.   ,  9960.   ,  8495.   , 13499.   ,  8249.   ,  6479.   ,\n",
              "        6692.   , 41315.   ,  9639.   , 13415.   ,  7999.   , 12940.   ,\n",
              "       25552.   ,  6229.   ,  7898.   , 21485.   ,  7689.   , 28176.   ,\n",
              "       11259.   , 10945.   ,  8916.5  , 14489.   ,  7463.   , 18344.   ,\n",
              "       15580.   ,  6918.   ,  7499.   ,  9095.   ,  6229.   ,  7053.   ,\n",
              "       16900.   , 12964.   ,  6295.   , 16558.   ,  7099.   ,  8948.   ,\n",
              "        7349.   , 15250.   ,  8449.   , 11845.   , 37028.   ,  5389.   ,\n",
              "        9233.   , 17199.   ], dtype=float32)"
            ]
          },
          "metadata": {
            "tags": []
          },
          "execution_count": 47
        }
      ]
    },
    {
      "cell_type": "code",
      "metadata": {
        "id": "k6bR_SHosAGr"
      },
      "source": [
        "model = models.Sequential()\n",
        "model.add(layers.Dense(64, activation='relu', input_shape=(25,)))\n",
        "model.add(layers.Dense(64, activation='relu'))\n",
        "model.add(layers.Dense(1))"
      ],
      "execution_count": 48,
      "outputs": []
    },
    {
      "cell_type": "code",
      "metadata": {
        "id": "epPUWwojuSdH"
      },
      "source": [
        "model.compile(optimizer='rmsprop', loss='mse', metrics=['mae'])"
      ],
      "execution_count": 49,
      "outputs": []
    },
    {
      "cell_type": "code",
      "metadata": {
        "colab": {
          "base_uri": "https://localhost:8080/"
        },
        "id": "dm5AW1QJu1Fd",
        "outputId": "c49c68ef-2bbc-48d9-9769-9a7078cb70c1"
      },
      "source": [
        "history=model.fit(train_data,train_labels,epochs=40,validation_split=0.20)\n"
      ],
      "execution_count": 57,
      "outputs": [
        {
          "output_type": "stream",
          "text": [
            "Epoch 1/40\n",
            "4/4 [==============================] - 0s 34ms/step - loss: 34291684.0000 - mae: 4427.3833 - val_loss: 57929252.0000 - val_mae: 5215.5928\n",
            "Epoch 2/40\n",
            "4/4 [==============================] - 0s 18ms/step - loss: 33598432.0000 - mae: 4336.7803 - val_loss: 57588328.0000 - val_mae: 5158.1133\n",
            "Epoch 3/40\n",
            "4/4 [==============================] - 0s 17ms/step - loss: 33100874.0000 - mae: 4294.9180 - val_loss: 56854616.0000 - val_mae: 5125.5405\n",
            "Epoch 4/40\n",
            "4/4 [==============================] - 0s 17ms/step - loss: 32803768.0000 - mae: 4187.4741 - val_loss: 54837744.0000 - val_mae: 5254.6401\n",
            "Epoch 5/40\n",
            "4/4 [==============================] - 0s 19ms/step - loss: 32664188.0000 - mae: 4325.2139 - val_loss: 54254424.0000 - val_mae: 5218.3247\n",
            "Epoch 6/40\n",
            "4/4 [==============================] - 0s 17ms/step - loss: 32270980.0000 - mae: 4337.1704 - val_loss: 54336328.0000 - val_mae: 5088.9009\n",
            "Epoch 7/40\n",
            "4/4 [==============================] - 0s 18ms/step - loss: 31764772.0000 - mae: 4215.4775 - val_loss: 53528552.0000 - val_mae: 5057.9927\n",
            "Epoch 8/40\n",
            "4/4 [==============================] - 0s 18ms/step - loss: 31881278.0000 - mae: 4261.1270 - val_loss: 53711480.0000 - val_mae: 4960.0376\n",
            "Epoch 9/40\n",
            "4/4 [==============================] - 0s 19ms/step - loss: 31143362.0000 - mae: 4091.5461 - val_loss: 52004124.0000 - val_mae: 5041.8926\n",
            "Epoch 10/40\n",
            "4/4 [==============================] - 0s 16ms/step - loss: 30865346.0000 - mae: 4160.7290 - val_loss: 51346472.0000 - val_mae: 5026.4888\n",
            "Epoch 11/40\n",
            "4/4 [==============================] - 0s 19ms/step - loss: 30311374.0000 - mae: 4214.1392 - val_loss: 51685208.0000 - val_mae: 4882.1938\n",
            "Epoch 12/40\n",
            "4/4 [==============================] - 0s 19ms/step - loss: 30158520.0000 - mae: 4061.2991 - val_loss: 50862564.0000 - val_mae: 4852.7017\n",
            "Epoch 13/40\n",
            "4/4 [==============================] - 0s 19ms/step - loss: 29594020.0000 - mae: 4085.9441 - val_loss: 51186584.0000 - val_mae: 4705.0381\n",
            "Epoch 14/40\n",
            "4/4 [==============================] - 0s 20ms/step - loss: 29401936.0000 - mae: 3952.6404 - val_loss: 50471448.0000 - val_mae: 4677.4072\n",
            "Epoch 15/40\n",
            "4/4 [==============================] - 0s 18ms/step - loss: 29155974.0000 - mae: 3920.1951 - val_loss: 48658868.0000 - val_mae: 4724.9043\n",
            "Epoch 16/40\n",
            "4/4 [==============================] - 0s 16ms/step - loss: 29083194.0000 - mae: 4059.5625 - val_loss: 48208044.0000 - val_mae: 4687.9116\n",
            "Epoch 17/40\n",
            "4/4 [==============================] - 0s 17ms/step - loss: 28253692.0000 - mae: 3962.3752 - val_loss: 47934248.0000 - val_mae: 4634.4658\n",
            "Epoch 18/40\n",
            "4/4 [==============================] - 0s 17ms/step - loss: 28047540.0000 - mae: 3954.1689 - val_loss: 48146104.0000 - val_mae: 4550.5532\n",
            "Epoch 19/40\n",
            "4/4 [==============================] - 0s 15ms/step - loss: 27926908.0000 - mae: 3836.9819 - val_loss: 46568096.0000 - val_mae: 4588.0015\n",
            "Epoch 20/40\n",
            "4/4 [==============================] - 0s 18ms/step - loss: 27225252.0000 - mae: 3848.0652 - val_loss: 46013060.0000 - val_mae: 4544.6592\n",
            "Epoch 21/40\n",
            "4/4 [==============================] - 0s 17ms/step - loss: 27226354.0000 - mae: 3840.3210 - val_loss: 44867228.0000 - val_mae: 4548.7002\n",
            "Epoch 22/40\n",
            "4/4 [==============================] - 0s 16ms/step - loss: 26695002.0000 - mae: 3874.6626 - val_loss: 44770792.0000 - val_mae: 4458.9819\n",
            "Epoch 23/40\n",
            "4/4 [==============================] - 0s 16ms/step - loss: 26120740.0000 - mae: 3753.8899 - val_loss: 43493340.0000 - val_mae: 4490.9536\n",
            "Epoch 24/40\n",
            "4/4 [==============================] - 0s 17ms/step - loss: 26256602.0000 - mae: 3843.4370 - val_loss: 43190756.0000 - val_mae: 4407.8838\n",
            "Epoch 25/40\n",
            "4/4 [==============================] - 0s 15ms/step - loss: 26091430.0000 - mae: 3853.4705 - val_loss: 43156108.0000 - val_mae: 4328.6753\n",
            "Epoch 26/40\n",
            "4/4 [==============================] - 0s 15ms/step - loss: 25435194.0000 - mae: 3639.1802 - val_loss: 41415248.0000 - val_mae: 4458.1548\n",
            "Epoch 27/40\n",
            "4/4 [==============================] - 0s 16ms/step - loss: 25052034.0000 - mae: 3758.5642 - val_loss: 41000928.0000 - val_mae: 4356.5532\n",
            "Epoch 28/40\n",
            "4/4 [==============================] - 0s 16ms/step - loss: 24786412.0000 - mae: 3722.2241 - val_loss: 40629700.0000 - val_mae: 4271.1577\n",
            "Epoch 29/40\n",
            "4/4 [==============================] - 0s 19ms/step - loss: 24353754.0000 - mae: 3634.2397 - val_loss: 40092392.0000 - val_mae: 4221.7817\n",
            "Epoch 30/40\n",
            "4/4 [==============================] - 0s 16ms/step - loss: 24123920.0000 - mae: 3634.2432 - val_loss: 40381956.0000 - val_mae: 4090.9631\n",
            "Epoch 31/40\n",
            "4/4 [==============================] - 0s 17ms/step - loss: 24060726.0000 - mae: 3496.7517 - val_loss: 38960972.0000 - val_mae: 4131.6797\n",
            "Epoch 32/40\n",
            "4/4 [==============================] - 0s 16ms/step - loss: 23481954.0000 - mae: 3512.4258 - val_loss: 37734076.0000 - val_mae: 4253.8057\n",
            "Epoch 33/40\n",
            "4/4 [==============================] - 0s 18ms/step - loss: 23234286.0000 - mae: 3631.9036 - val_loss: 38661916.0000 - val_mae: 3968.3979\n",
            "Epoch 34/40\n",
            "4/4 [==============================] - 0s 18ms/step - loss: 23086992.0000 - mae: 3429.6201 - val_loss: 36803824.0000 - val_mae: 4146.7954\n",
            "Epoch 35/40\n",
            "4/4 [==============================] - 0s 20ms/step - loss: 22937178.0000 - mae: 3550.3064 - val_loss: 36380216.0000 - val_mae: 4078.6685\n",
            "Epoch 36/40\n",
            "4/4 [==============================] - 0s 18ms/step - loss: 23014042.0000 - mae: 3535.9902 - val_loss: 36933668.0000 - val_mae: 3878.0940\n",
            "Epoch 37/40\n",
            "4/4 [==============================] - 0s 17ms/step - loss: 22424866.0000 - mae: 3302.3645 - val_loss: 35420464.0000 - val_mae: 4040.7874\n",
            "Epoch 38/40\n",
            "4/4 [==============================] - 0s 19ms/step - loss: 21908406.0000 - mae: 3475.3132 - val_loss: 35375932.0000 - val_mae: 3927.9656\n",
            "Epoch 39/40\n",
            "4/4 [==============================] - 0s 18ms/step - loss: 22951928.0000 - mae: 3435.4570 - val_loss: 35127456.0000 - val_mae: 3879.8359\n",
            "Epoch 40/40\n",
            "4/4 [==============================] - 0s 17ms/step - loss: 21594850.0000 - mae: 3322.6794 - val_loss: 33979036.0000 - val_mae: 4023.8472\n"
          ],
          "name": "stdout"
        }
      ]
    },
    {
      "cell_type": "code",
      "metadata": {
        "colab": {
          "base_uri": "https://localhost:8080/"
        },
        "id": "oYv3Ynp3vBtV",
        "outputId": "029bb6c0-c6fa-4227-b355-32cc0a602dd9"
      },
      "source": [
        "test_loss,test_mae=model.evaluate(test_data,test_labels)\n",
        "print(\"test_loss:\",test_loss,\"mae:\",test_mae)\n"
      ],
      "execution_count": 58,
      "outputs": [
        {
          "output_type": "stream",
          "text": [
            "2/2 [==============================] - 0s 5ms/step - loss: 29768906.0000 - mae: 3773.4910\n",
            "test_loss: 29768906.0 mae: 3773.490966796875\n"
          ],
          "name": "stdout"
        }
      ]
    },
    {
      "cell_type": "code",
      "metadata": {
        "colab": {
          "base_uri": "https://localhost:8080/"
        },
        "id": "FGqw2DV1wbxR",
        "outputId": "115dc943-c706-43f7-e2ee-5514c520ff1d"
      },
      "source": [
        "model.predict(test_data)[5]"
      ],
      "execution_count": 59,
      "outputs": [
        {
          "output_type": "execute_result",
          "data": {
            "text/plain": [
              "array([9940.725], dtype=float32)"
            ]
          },
          "metadata": {
            "tags": []
          },
          "execution_count": 59
        }
      ]
    },
    {
      "cell_type": "code",
      "metadata": {
        "colab": {
          "base_uri": "https://localhost:8080/"
        },
        "id": "9dm53wSy2L8x",
        "outputId": "a3143c79-9c11-46b1-d87b-ace5251e0c9a"
      },
      "source": [
        "model.predict(test_data)[1:6]"
      ],
      "execution_count": 60,
      "outputs": [
        {
          "output_type": "execute_result",
          "data": {
            "text/plain": [
              "array([[17828.502],\n",
              "       [12021.81 ],\n",
              "       [14280.706],\n",
              "       [22967.182],\n",
              "       [ 9940.725]], dtype=float32)"
            ]
          },
          "metadata": {
            "tags": []
          },
          "execution_count": 60
        }
      ]
    },
    {
      "cell_type": "code",
      "metadata": {
        "id": "Dx7OIq152VpV"
      },
      "source": [
        " history_dict = history.history"
      ],
      "execution_count": 61,
      "outputs": []
    },
    {
      "cell_type": "code",
      "metadata": {
        "id": "Ihite2rc20eT",
        "colab": {
          "base_uri": "https://localhost:8080/"
        },
        "outputId": "f7a6a1e9-5ab5-44a8-8bea-482312f84993"
      },
      "source": [
        "history_dict.keys()"
      ],
      "execution_count": 55,
      "outputs": [
        {
          "output_type": "execute_result",
          "data": {
            "text/plain": [
              "dict_keys(['loss', 'mae', 'val_loss', 'val_mae'])"
            ]
          },
          "metadata": {
            "tags": []
          },
          "execution_count": 55
        }
      ]
    },
    {
      "cell_type": "code",
      "metadata": {
        "colab": {
          "base_uri": "https://localhost:8080/",
          "height": 295
        },
        "id": "JB73fW5V8O5t",
        "outputId": "39c47729-9bb5-4f62-fcb8-2bb9b3c4523f"
      },
      "source": [
        "import matplotlib.pyplot as plt\n",
        "history_dict = history.history\n",
        "loss_values = history_dict['loss'] \n",
        "val_loss_values = history_dict['val_loss'] \n",
        "epochs = range(40)\n",
        "plt.plot(epochs, loss_values, 'bo', label='Training loss')\n",
        "plt.plot(epochs, val_loss_values, 'b', label='Validation loss') \n",
        "plt.title('Training and validation accuracy')\n",
        "plt.xlabel('Epochs')\n",
        "plt.ylabel('Loss') \n",
        "plt.legend()\n",
        "plt.show()"
      ],
      "execution_count": 62,
      "outputs": [
        {
          "output_type": "display_data",
          "data": {
            "image/png": "[encoded data removed]",
            "text/plain": [
              "<Figure size 432x288 with 1 Axes>"
            ]
          },
          "metadata": {
            "tags": [],
            "needs_background": "light"
          }
        }
      ]
    },
    {
      "cell_type": "code",
      "metadata": {
        "colab": {
          "base_uri": "https://localhost:8080/",
          "height": 295
        },
        "id": "trt2UhVr8YmI",
        "outputId": "f7a55858-1517-4365-efdc-3cbe923a131a"
      },
      "source": [
        "mae = history_dict['mae'] \n",
        "val_mae = history_dict['val_mae'] \n",
        "plt.plot(epochs, mae, 'bo', label='Training mae')\n",
        "plt.plot(epochs, val_mae, 'b', label='Validation mae') \n",
        "plt.title('Training and validation mae')\n",
        "plt.xlabel('Epochs')\n",
        "plt.ylabel('mae') \n",
        "plt.legend()\n",
        "plt.show()"
      ],
      "execution_count": 63,
      "outputs": [
        {
          "output_type": "display_data",
          "data": {
            "image/png": "[encoded data removed]",
            "text/plain": [
              "<Figure size 432x288 with 1 Axes>"
            ]
          },
          "metadata": {
            "tags": [],
            "needs_background": "light"
          }
        }
      ]
    },
    {
      "cell_type": "code",
      "metadata": {
        "id": "B8omTnAf8gzP"
      },
      "source": [
        ""
      ],
      "execution_count": null,
      "outputs": []
    }
  ]
}
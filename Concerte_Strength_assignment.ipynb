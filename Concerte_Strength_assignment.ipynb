{
  "nbformat": 4,
  "nbformat_minor": 0,
  "metadata": {
    "colab": {
      "name": "Concerte_Strength assignment.ipynb",
      "provenance": [],
      "collapsed_sections": [],
      "include_colab_link": true
    },
    "kernelspec": {
      "name": "python3",
      "display_name": "Python 3"
    },
    "language_info": {
      "name": "python"
    }
  },
  "cells": [
    {
      "cell_type": "markdown",
      "metadata": {
        "id": "view-in-github",
        "colab_type": "text"
      },
      "source": [
        "<a href=\"https://colab.research.google.com/github/AdeelAhmed2001/deep-learning-assignments/blob/main/Concerte_Strength_assignment.ipynb\" target=\"_parent\"><img src=\"https://colab.research.google.com/assets/colab-badge.svg\" alt=\"Open In Colab\"/></a>"
      ]
    },
    {
      "cell_type": "code",
      "metadata": {
        "id": "XWvK4tK3St2I"
      },
      "source": [
        "import pandas as pd\n",
        "import numpy as np\n",
        "import tensorflow as tf\n",
        "from tensorflow.keras import models\n",
        "from tensorflow.keras import layers\n",
        "from tensorflow.keras import optimizers"
      ],
      "execution_count": null,
      "outputs": []
    },
    {
      "cell_type": "code",
      "metadata": {
        "colab": {
          "base_uri": "https://localhost:8080/",
          "height": 289
        },
        "id": "oiE5Er0sTQ5V",
        "outputId": "c24a4ea3-6f75-47fe-a66d-e5d07f197234"
      },
      "source": [
        "data=pd.read_csv(\"compresive_strength_concrete.csv\")\n",
        "display(data.head(n=5))"
      ],
      "execution_count": null,
      "outputs": [
        {
          "output_type": "display_data",
          "data": {
            "text/html": [
              "<div>\n",
              "<style scoped>\n",
              "    .dataframe tbody tr th:only-of-type {\n",
              "        vertical-align: middle;\n",
              "    }\n",
              "\n",
              "    .dataframe tbody tr th {\n",
              "        vertical-align: top;\n",
              "    }\n",
              "\n",
              "    .dataframe thead th {\n",
              "        text-align: right;\n",
              "    }\n",
              "</style>\n",
              "<table border=\"1\" class=\"dataframe\">\n",
              "  <thead>\n",
              "    <tr style=\"text-align: right;\">\n",
              "      <th></th>\n",
              "      <th>Cement (component 1)(kg in a m^3 mixture)</th>\n",
              "      <th>Blast Furnace Slag (component 2)(kg in a m^3 mixture)</th>\n",
              "      <th>Fly Ash (component 3)(kg in a m^3 mixture)</th>\n",
              "      <th>Water  (component 4)(kg in a m^3 mixture)</th>\n",
              "      <th>Superplasticizer (component 5)(kg in a m^3 mixture)</th>\n",
              "      <th>Coarse Aggregate  (component 6)(kg in a m^3 mixture)</th>\n",
              "      <th>Fine Aggregate (component 7)(kg in a m^3 mixture)</th>\n",
              "      <th>Age (day)</th>\n",
              "      <th>Concrete compressive strength(MPa, megapascals)</th>\n",
              "    </tr>\n",
              "  </thead>\n",
              "  <tbody>\n",
              "    <tr>\n",
              "      <th>0</th>\n",
              "      <td>540.0</td>\n",
              "      <td>0.0</td>\n",
              "      <td>0.0</td>\n",
              "      <td>162.0</td>\n",
              "      <td>2.5</td>\n",
              "      <td>1040.0</td>\n",
              "      <td>676.0</td>\n",
              "      <td>28</td>\n",
              "      <td>79.99</td>\n",
              "    </tr>\n",
              "    <tr>\n",
              "      <th>1</th>\n",
              "      <td>540.0</td>\n",
              "      <td>0.0</td>\n",
              "      <td>0.0</td>\n",
              "      <td>162.0</td>\n",
              "      <td>2.5</td>\n",
              "      <td>1055.0</td>\n",
              "      <td>676.0</td>\n",
              "      <td>28</td>\n",
              "      <td>61.89</td>\n",
              "    </tr>\n",
              "    <tr>\n",
              "      <th>2</th>\n",
              "      <td>332.5</td>\n",
              "      <td>142.5</td>\n",
              "      <td>0.0</td>\n",
              "      <td>228.0</td>\n",
              "      <td>0.0</td>\n",
              "      <td>932.0</td>\n",
              "      <td>594.0</td>\n",
              "      <td>270</td>\n",
              "      <td>40.27</td>\n",
              "    </tr>\n",
              "    <tr>\n",
              "      <th>3</th>\n",
              "      <td>332.5</td>\n",
              "      <td>142.5</td>\n",
              "      <td>0.0</td>\n",
              "      <td>228.0</td>\n",
              "      <td>0.0</td>\n",
              "      <td>932.0</td>\n",
              "      <td>594.0</td>\n",
              "      <td>365</td>\n",
              "      <td>41.05</td>\n",
              "    </tr>\n",
              "    <tr>\n",
              "      <th>4</th>\n",
              "      <td>198.6</td>\n",
              "      <td>132.4</td>\n",
              "      <td>0.0</td>\n",
              "      <td>192.0</td>\n",
              "      <td>0.0</td>\n",
              "      <td>978.4</td>\n",
              "      <td>825.5</td>\n",
              "      <td>360</td>\n",
              "      <td>44.30</td>\n",
              "    </tr>\n",
              "  </tbody>\n",
              "</table>\n",
              "</div>"
            ],
            "text/plain": [
              "   Cement (component 1)(kg in a m^3 mixture)  ...  Concrete compressive strength(MPa, megapascals) \n",
              "0                                      540.0  ...                                             79.99\n",
              "1                                      540.0  ...                                             61.89\n",
              "2                                      332.5  ...                                             40.27\n",
              "3                                      332.5  ...                                             41.05\n",
              "4                                      198.6  ...                                             44.30\n",
              "\n",
              "[5 rows x 9 columns]"
            ]
          },
          "metadata": {
            "tags": []
          }
        }
      ]
    },
    {
      "cell_type": "code",
      "metadata": {
        "colab": {
          "base_uri": "https://localhost:8080/"
        },
        "id": "l79yAT2VT7AZ",
        "outputId": "ec339aa3-629d-4a75-90b9-622126fe97f1"
      },
      "source": [
        "data.shape"
      ],
      "execution_count": null,
      "outputs": [
        {
          "output_type": "execute_result",
          "data": {
            "text/plain": [
              "(1030, 9)"
            ]
          },
          "metadata": {
            "tags": []
          },
          "execution_count": 77
        }
      ]
    },
    {
      "cell_type": "code",
      "metadata": {
        "colab": {
          "base_uri": "https://localhost:8080/"
        },
        "id": "eh-Pkuy2UaN5",
        "outputId": "3b8f9392-8d0f-4920-e14b-f282246fdf7d"
      },
      "source": [
        "data.ndim"
      ],
      "execution_count": null,
      "outputs": [
        {
          "output_type": "execute_result",
          "data": {
            "text/plain": [
              "2"
            ]
          },
          "metadata": {
            "tags": []
          },
          "execution_count": 78
        }
      ]
    },
    {
      "cell_type": "code",
      "metadata": {
        "colab": {
          "base_uri": "https://localhost:8080/"
        },
        "id": "OmfTmiVzUdTf",
        "outputId": "e8c07dc5-7f5a-45a5-f47b-0b41bed94a42"
      },
      "source": [
        "data.iloc[4]"
      ],
      "execution_count": null,
      "outputs": [
        {
          "output_type": "execute_result",
          "data": {
            "text/plain": [
              "Cement (component 1)(kg in a m^3 mixture)                198.6\n",
              "Blast Furnace Slag (component 2)(kg in a m^3 mixture)    132.4\n",
              "Fly Ash (component 3)(kg in a m^3 mixture)                 0.0\n",
              "Water  (component 4)(kg in a m^3 mixture)                192.0\n",
              "Superplasticizer (component 5)(kg in a m^3 mixture)        0.0\n",
              "Coarse Aggregate  (component 6)(kg in a m^3 mixture)     978.4\n",
              "Fine Aggregate (component 7)(kg in a m^3 mixture)        825.5\n",
              "Age (day)                                                360.0\n",
              "Concrete compressive strength(MPa, megapascals)           44.3\n",
              "Name: 4, dtype: float64"
            ]
          },
          "metadata": {
            "tags": []
          },
          "execution_count": 79
        }
      ]
    },
    {
      "cell_type": "code",
      "metadata": {
        "colab": {
          "base_uri": "https://localhost:8080/"
        },
        "id": "JCKiA1nTUff_",
        "outputId": "0f712192-163e-4e08-8932-0725a2a4818d"
      },
      "source": [
        "data.info()"
      ],
      "execution_count": null,
      "outputs": [
        {
          "output_type": "stream",
          "text": [
            "<class 'pandas.core.frame.DataFrame'>\n",
            "RangeIndex: 1030 entries, 0 to 1029\n",
            "Data columns (total 9 columns):\n",
            " #   Column                                                 Non-Null Count  Dtype  \n",
            "---  ------                                                 --------------  -----  \n",
            " 0   Cement (component 1)(kg in a m^3 mixture)              1030 non-null   float64\n",
            " 1   Blast Furnace Slag (component 2)(kg in a m^3 mixture)  1030 non-null   float64\n",
            " 2   Fly Ash (component 3)(kg in a m^3 mixture)             1030 non-null   float64\n",
            " 3   Water  (component 4)(kg in a m^3 mixture)              1030 non-null   float64\n",
            " 4   Superplasticizer (component 5)(kg in a m^3 mixture)    1030 non-null   float64\n",
            " 5   Coarse Aggregate  (component 6)(kg in a m^3 mixture)   1030 non-null   float64\n",
            " 6   Fine Aggregate (component 7)(kg in a m^3 mixture)      1030 non-null   float64\n",
            " 7   Age (day)                                              1030 non-null   int64  \n",
            " 8   Concrete compressive strength(MPa, megapascals)        1030 non-null   float64\n",
            "dtypes: float64(8), int64(1)\n",
            "memory usage: 72.5 KB\n"
          ],
          "name": "stdout"
        }
      ]
    },
    {
      "cell_type": "code",
      "metadata": {
        "colab": {
          "base_uri": "https://localhost:8080/"
        },
        "id": "EBJ8LXo3Uz_h",
        "outputId": "539ac582-0519-43cf-a993-9e6bee60341a"
      },
      "source": [
        "pd.isnull(data).sum()"
      ],
      "execution_count": null,
      "outputs": [
        {
          "output_type": "execute_result",
          "data": {
            "text/plain": [
              "Cement (component 1)(kg in a m^3 mixture)                0\n",
              "Blast Furnace Slag (component 2)(kg in a m^3 mixture)    0\n",
              "Fly Ash (component 3)(kg in a m^3 mixture)               0\n",
              "Water  (component 4)(kg in a m^3 mixture)                0\n",
              "Superplasticizer (component 5)(kg in a m^3 mixture)      0\n",
              "Coarse Aggregate  (component 6)(kg in a m^3 mixture)     0\n",
              "Fine Aggregate (component 7)(kg in a m^3 mixture)        0\n",
              "Age (day)                                                0\n",
              "Concrete compressive strength(MPa, megapascals)          0\n",
              "dtype: int64"
            ]
          },
          "metadata": {
            "tags": []
          },
          "execution_count": 81
        }
      ]
    },
    {
      "cell_type": "code",
      "metadata": {
        "colab": {
          "base_uri": "https://localhost:8080/",
          "height": 504
        },
        "id": "hepLcehHU7OX",
        "outputId": "b2ae3522-13dc-461a-881d-8fe3daed8aab"
      },
      "source": [
        "pd.isnull(data)"
      ],
      "execution_count": null,
      "outputs": [
        {
          "output_type": "execute_result",
          "data": {
            "text/html": [
              "<div>\n",
              "<style scoped>\n",
              "    .dataframe tbody tr th:only-of-type {\n",
              "        vertical-align: middle;\n",
              "    }\n",
              "\n",
              "    .dataframe tbody tr th {\n",
              "        vertical-align: top;\n",
              "    }\n",
              "\n",
              "    .dataframe thead th {\n",
              "        text-align: right;\n",
              "    }\n",
              "</style>\n",
              "<table border=\"1\" class=\"dataframe\">\n",
              "  <thead>\n",
              "    <tr style=\"text-align: right;\">\n",
              "      <th></th>\n",
              "      <th>Cement (component 1)(kg in a m^3 mixture)</th>\n",
              "      <th>Blast Furnace Slag (component 2)(kg in a m^3 mixture)</th>\n",
              "      <th>Fly Ash (component 3)(kg in a m^3 mixture)</th>\n",
              "      <th>Water  (component 4)(kg in a m^3 mixture)</th>\n",
              "      <th>Superplasticizer (component 5)(kg in a m^3 mixture)</th>\n",
              "      <th>Coarse Aggregate  (component 6)(kg in a m^3 mixture)</th>\n",
              "      <th>Fine Aggregate (component 7)(kg in a m^3 mixture)</th>\n",
              "      <th>Age (day)</th>\n",
              "      <th>Concrete compressive strength(MPa, megapascals)</th>\n",
              "    </tr>\n",
              "  </thead>\n",
              "  <tbody>\n",
              "    <tr>\n",
              "      <th>0</th>\n",
              "      <td>False</td>\n",
              "      <td>False</td>\n",
              "      <td>False</td>\n",
              "      <td>False</td>\n",
              "      <td>False</td>\n",
              "      <td>False</td>\n",
              "      <td>False</td>\n",
              "      <td>False</td>\n",
              "      <td>False</td>\n",
              "    </tr>\n",
              "    <tr>\n",
              "      <th>1</th>\n",
              "      <td>False</td>\n",
              "      <td>False</td>\n",
              "      <td>False</td>\n",
              "      <td>False</td>\n",
              "      <td>False</td>\n",
              "      <td>False</td>\n",
              "      <td>False</td>\n",
              "      <td>False</td>\n",
              "      <td>False</td>\n",
              "    </tr>\n",
              "    <tr>\n",
              "      <th>2</th>\n",
              "      <td>False</td>\n",
              "      <td>False</td>\n",
              "      <td>False</td>\n",
              "      <td>False</td>\n",
              "      <td>False</td>\n",
              "      <td>False</td>\n",
              "      <td>False</td>\n",
              "      <td>False</td>\n",
              "      <td>False</td>\n",
              "    </tr>\n",
              "    <tr>\n",
              "      <th>3</th>\n",
              "      <td>False</td>\n",
              "      <td>False</td>\n",
              "      <td>False</td>\n",
              "      <td>False</td>\n",
              "      <td>False</td>\n",
              "      <td>False</td>\n",
              "      <td>False</td>\n",
              "      <td>False</td>\n",
              "      <td>False</td>\n",
              "    </tr>\n",
              "    <tr>\n",
              "      <th>4</th>\n",
              "      <td>False</td>\n",
              "      <td>False</td>\n",
              "      <td>False</td>\n",
              "      <td>False</td>\n",
              "      <td>False</td>\n",
              "      <td>False</td>\n",
              "      <td>False</td>\n",
              "      <td>False</td>\n",
              "      <td>False</td>\n",
              "    </tr>\n",
              "    <tr>\n",
              "      <th>...</th>\n",
              "      <td>...</td>\n",
              "      <td>...</td>\n",
              "      <td>...</td>\n",
              "      <td>...</td>\n",
              "      <td>...</td>\n",
              "      <td>...</td>\n",
              "      <td>...</td>\n",
              "      <td>...</td>\n",
              "      <td>...</td>\n",
              "    </tr>\n",
              "    <tr>\n",
              "      <th>1025</th>\n",
              "      <td>False</td>\n",
              "      <td>False</td>\n",
              "      <td>False</td>\n",
              "      <td>False</td>\n",
              "      <td>False</td>\n",
              "      <td>False</td>\n",
              "      <td>False</td>\n",
              "      <td>False</td>\n",
              "      <td>False</td>\n",
              "    </tr>\n",
              "    <tr>\n",
              "      <th>1026</th>\n",
              "      <td>False</td>\n",
              "      <td>False</td>\n",
              "      <td>False</td>\n",
              "      <td>False</td>\n",
              "      <td>False</td>\n",
              "      <td>False</td>\n",
              "      <td>False</td>\n",
              "      <td>False</td>\n",
              "      <td>False</td>\n",
              "    </tr>\n",
              "    <tr>\n",
              "      <th>1027</th>\n",
              "      <td>False</td>\n",
              "      <td>False</td>\n",
              "      <td>False</td>\n",
              "      <td>False</td>\n",
              "      <td>False</td>\n",
              "      <td>False</td>\n",
              "      <td>False</td>\n",
              "      <td>False</td>\n",
              "      <td>False</td>\n",
              "    </tr>\n",
              "    <tr>\n",
              "      <th>1028</th>\n",
              "      <td>False</td>\n",
              "      <td>False</td>\n",
              "      <td>False</td>\n",
              "      <td>False</td>\n",
              "      <td>False</td>\n",
              "      <td>False</td>\n",
              "      <td>False</td>\n",
              "      <td>False</td>\n",
              "      <td>False</td>\n",
              "    </tr>\n",
              "    <tr>\n",
              "      <th>1029</th>\n",
              "      <td>False</td>\n",
              "      <td>False</td>\n",
              "      <td>False</td>\n",
              "      <td>False</td>\n",
              "      <td>False</td>\n",
              "      <td>False</td>\n",
              "      <td>False</td>\n",
              "      <td>False</td>\n",
              "      <td>False</td>\n",
              "    </tr>\n",
              "  </tbody>\n",
              "</table>\n",
              "<p>1030 rows × 9 columns</p>\n",
              "</div>"
            ],
            "text/plain": [
              "      Cement (component 1)(kg in a m^3 mixture)  ...  Concrete compressive strength(MPa, megapascals) \n",
              "0                                         False  ...                                             False\n",
              "1                                         False  ...                                             False\n",
              "2                                         False  ...                                             False\n",
              "3                                         False  ...                                             False\n",
              "4                                         False  ...                                             False\n",
              "...                                         ...  ...                                               ...\n",
              "1025                                      False  ...                                             False\n",
              "1026                                      False  ...                                             False\n",
              "1027                                      False  ...                                             False\n",
              "1028                                      False  ...                                             False\n",
              "1029                                      False  ...                                             False\n",
              "\n",
              "[1030 rows x 9 columns]"
            ]
          },
          "metadata": {
            "tags": []
          },
          "execution_count": 82
        }
      ]
    },
    {
      "cell_type": "code",
      "metadata": {
        "id": "aM01r3FLC_WP"
      },
      "source": [
        "x=data.iloc[0:,0:8]\n",
        "y=data.iloc[0:,8]\n"
      ],
      "execution_count": null,
      "outputs": []
    },
    {
      "cell_type": "code",
      "metadata": {
        "id": "jd1-3bI2DEQc"
      },
      "source": [
        "from sklearn.model_selection import train_test_split\n",
        "train_data,test_data,train_labels,test_labels=train_test_split(x,y,test_size=0.30,random_state=42)"
      ],
      "execution_count": null,
      "outputs": []
    },
    {
      "cell_type": "code",
      "metadata": {
        "id": "8hDeMTH5U_XP"
      },
      "source": [
        "mean=train_data.mean(axis=0)\n",
        "train_data-=mean\n",
        "std=train_data.std(axis=0)\n",
        "train_data/=std\n",
        "test_data-=mean\n",
        "test_data/=std"
      ],
      "execution_count": null,
      "outputs": []
    },
    {
      "cell_type": "code",
      "metadata": {
        "colab": {
          "base_uri": "https://localhost:8080/"
        },
        "id": "t_DEDw1AXFUb",
        "outputId": "cf2a7125-193f-41a2-e5dc-670bf36a78a9"
      },
      "source": [
        "test_data.iloc[4]"
      ],
      "execution_count": null,
      "outputs": [
        {
          "output_type": "execute_result",
          "data": {
            "text/plain": [
              "Cement (component 1)(kg in a m^3 mixture)               -1.286565\n",
              "Blast Furnace Slag (component 2)(kg in a m^3 mixture)   -0.854703\n",
              "Fly Ash (component 3)(kg in a m^3 mixture)               1.993364\n",
              "Water  (component 4)(kg in a m^3 mixture)                0.954404\n",
              "Superplasticizer (component 5)(kg in a m^3 mixture)      0.309809\n",
              "Coarse Aggregate  (component 6)(kg in a m^3 mixture)    -1.908034\n",
              "Fine Aggregate (component 7)(kg in a m^3 mixture)        1.215115\n",
              "Age (day)                                               -0.292777\n",
              "Name: 918, dtype: float64"
            ]
          },
          "metadata": {
            "tags": []
          },
          "execution_count": 86
        }
      ]
    },
    {
      "cell_type": "code",
      "metadata": {
        "id": "Mf9mwObQYJaQ"
      },
      "source": [
        "train_data=np.asarray(train_data)\n",
        "test_data=np.asarray(test_data)"
      ],
      "execution_count": null,
      "outputs": []
    },
    {
      "cell_type": "code",
      "metadata": {
        "colab": {
          "base_uri": "https://localhost:8080/"
        },
        "id": "ZRfsG_JHYNXp",
        "outputId": "bdc7982f-8c62-4625-bdc1-603d3a31e11c"
      },
      "source": [
        "train_data[43]"
      ],
      "execution_count": null,
      "outputs": [
        {
          "output_type": "execute_result",
          "data": {
            "text/plain": [
              "array([ 1.52904594, -0.28469113, -0.81634643,  0.85987838, -0.51712886,\n",
              "        1.91826305, -1.97735758, -0.29277718])"
            ]
          },
          "metadata": {
            "tags": []
          },
          "execution_count": 88
        }
      ]
    },
    {
      "cell_type": "code",
      "metadata": {
        "colab": {
          "base_uri": "https://localhost:8080/"
        },
        "id": "nsMkHqy4YQZg",
        "outputId": "ad7f5a7d-732a-48a6-a7ce-3fbe8cbf0d2f"
      },
      "source": [
        "test_data[3]"
      ],
      "execution_count": null,
      "outputs": [
        {
          "output_type": "execute_result",
          "data": {
            "text/plain": [
              "array([ 0.72155356,  1.29994103, -0.81634643, -0.79904003,  0.90520489,\n",
              "       -0.3706372 , -0.19766029, -0.69828729])"
            ]
          },
          "metadata": {
            "tags": []
          },
          "execution_count": 89
        }
      ]
    },
    {
      "cell_type": "code",
      "metadata": {
        "id": "EegTLFevYW0H"
      },
      "source": [
        "train_labels=np.asarray(train_labels)\n",
        "test_labels=np.asarray(test_labels)"
      ],
      "execution_count": null,
      "outputs": []
    },
    {
      "cell_type": "code",
      "metadata": {
        "colab": {
          "base_uri": "https://localhost:8080/"
        },
        "id": "x3ydnbpRYfGQ",
        "outputId": "3656ffc0-527b-469e-bf17-7f1abaa8b1ae"
      },
      "source": [
        "train_labels[23:45]"
      ],
      "execution_count": null,
      "outputs": [
        {
          "output_type": "execute_result",
          "data": {
            "text/plain": [
              "array([36.45, 77.3 , 25.56, 38.46, 23.52, 21.86, 37.81, 19.69, 37.43,\n",
              "       26.05, 38.89, 26.15, 11.48, 33.06, 15.69, 67.31, 28.63, 32.07,\n",
              "       39.45, 39.23, 39.38, 27.34])"
            ]
          },
          "metadata": {
            "tags": []
          },
          "execution_count": 91
        }
      ]
    },
    {
      "cell_type": "code",
      "metadata": {
        "id": "NSo0n4-AYji4"
      },
      "source": [
        "model = models.Sequential()\n",
        "model.add(layers.Dense(64, activation='relu', input_shape=(8,)))\n",
        "model.add(layers.Dense(64, activation='relu'))\n",
        "model.add(layers.Dense(1))"
      ],
      "execution_count": null,
      "outputs": []
    },
    {
      "cell_type": "code",
      "metadata": {
        "id": "NKawacwWZMUG"
      },
      "source": [
        "model.compile(optimizer='rmsprop', loss='mse', metrics=['mae'])"
      ],
      "execution_count": null,
      "outputs": []
    },
    {
      "cell_type": "code",
      "metadata": {
        "colab": {
          "base_uri": "https://localhost:8080/"
        },
        "id": "9zAtYcr0ZO_-",
        "outputId": "70833753-40d7-48a8-8e51-95d14a65878c"
      },
      "source": [
        "history=model.fit(train_data,train_labels,epochs=50,validation_split=0.20,batch_size=26)"
      ],
      "execution_count": null,
      "outputs": [
        {
          "output_type": "stream",
          "text": [
            "Epoch 1/50\n",
            "23/23 [==============================] - 0s 7ms/step - loss: 106.7468 - mae: 8.3638 - val_loss: 109.6283 - val_mae: 8.3053\n",
            "Epoch 2/50\n",
            "23/23 [==============================] - 0s 4ms/step - loss: 106.6629 - mae: 8.3079 - val_loss: 111.1402 - val_mae: 8.6806\n",
            "Epoch 3/50\n",
            "23/23 [==============================] - 0s 4ms/step - loss: 104.6250 - mae: 8.2191 - val_loss: 109.2065 - val_mae: 8.5174\n",
            "Epoch 4/50\n",
            "23/23 [==============================] - 0s 5ms/step - loss: 103.2056 - mae: 8.1524 - val_loss: 107.3617 - val_mae: 8.4934\n",
            "Epoch 5/50\n",
            "23/23 [==============================] - 0s 4ms/step - loss: 102.0398 - mae: 8.0993 - val_loss: 105.4102 - val_mae: 8.2553\n",
            "Epoch 6/50\n",
            "23/23 [==============================] - 0s 5ms/step - loss: 100.2478 - mae: 8.0536 - val_loss: 107.1779 - val_mae: 8.5346\n",
            "Epoch 7/50\n",
            "23/23 [==============================] - 0s 4ms/step - loss: 99.3126 - mae: 7.9310 - val_loss: 104.9916 - val_mae: 8.3591\n",
            "Epoch 8/50\n",
            "23/23 [==============================] - 0s 4ms/step - loss: 97.0485 - mae: 7.8897 - val_loss: 100.2509 - val_mae: 8.0017\n",
            "Epoch 9/50\n",
            "23/23 [==============================] - 0s 4ms/step - loss: 96.3831 - mae: 7.8062 - val_loss: 102.4817 - val_mae: 8.3195\n",
            "Epoch 10/50\n",
            "23/23 [==============================] - 0s 4ms/step - loss: 94.7603 - mae: 7.7398 - val_loss: 99.7264 - val_mae: 8.1038\n",
            "Epoch 11/50\n",
            "23/23 [==============================] - 0s 4ms/step - loss: 93.1914 - mae: 7.6460 - val_loss: 97.7656 - val_mae: 7.9065\n",
            "Epoch 12/50\n",
            "23/23 [==============================] - 0s 4ms/step - loss: 91.8292 - mae: 7.5816 - val_loss: 97.4005 - val_mae: 7.9390\n",
            "Epoch 13/50\n",
            "23/23 [==============================] - 0s 4ms/step - loss: 89.4666 - mae: 7.4800 - val_loss: 97.0490 - val_mae: 7.7731\n",
            "Epoch 14/50\n",
            "23/23 [==============================] - 0s 4ms/step - loss: 88.9193 - mae: 7.4123 - val_loss: 96.0825 - val_mae: 7.9910\n",
            "Epoch 15/50\n",
            "23/23 [==============================] - 0s 4ms/step - loss: 86.8496 - mae: 7.3546 - val_loss: 95.4701 - val_mae: 7.9566\n",
            "Epoch 16/50\n",
            "23/23 [==============================] - 0s 4ms/step - loss: 86.1383 - mae: 7.3026 - val_loss: 92.5694 - val_mae: 7.7415\n",
            "Epoch 17/50\n",
            "23/23 [==============================] - 0s 4ms/step - loss: 83.3868 - mae: 7.1693 - val_loss: 89.1129 - val_mae: 7.4605\n",
            "Epoch 18/50\n",
            "23/23 [==============================] - 0s 4ms/step - loss: 80.7666 - mae: 7.0434 - val_loss: 90.1720 - val_mae: 7.6508\n",
            "Epoch 19/50\n",
            "23/23 [==============================] - 0s 4ms/step - loss: 79.2646 - mae: 6.9237 - val_loss: 87.2938 - val_mae: 7.4269\n",
            "Epoch 20/50\n",
            "23/23 [==============================] - 0s 4ms/step - loss: 77.9166 - mae: 6.8998 - val_loss: 85.6776 - val_mae: 7.3413\n",
            "Epoch 21/50\n",
            "23/23 [==============================] - 0s 4ms/step - loss: 75.5002 - mae: 6.7375 - val_loss: 85.8803 - val_mae: 7.4739\n",
            "Epoch 22/50\n",
            "23/23 [==============================] - 0s 4ms/step - loss: 73.6240 - mae: 6.6551 - val_loss: 86.2203 - val_mae: 7.5001\n",
            "Epoch 23/50\n",
            "23/23 [==============================] - 0s 4ms/step - loss: 72.4994 - mae: 6.5608 - val_loss: 78.9139 - val_mae: 6.8796\n",
            "Epoch 24/50\n",
            "23/23 [==============================] - 0s 4ms/step - loss: 70.8634 - mae: 6.4848 - val_loss: 78.6399 - val_mae: 7.0518\n",
            "Epoch 25/50\n",
            "23/23 [==============================] - 0s 4ms/step - loss: 69.2726 - mae: 6.4067 - val_loss: 80.2851 - val_mae: 7.1493\n",
            "Epoch 26/50\n",
            "23/23 [==============================] - 0s 4ms/step - loss: 66.8282 - mae: 6.2950 - val_loss: 77.3069 - val_mae: 6.9161\n",
            "Epoch 27/50\n",
            "23/23 [==============================] - 0s 4ms/step - loss: 64.6553 - mae: 6.1502 - val_loss: 78.7913 - val_mae: 7.0717\n",
            "Epoch 28/50\n",
            "23/23 [==============================] - 0s 4ms/step - loss: 63.6794 - mae: 6.1344 - val_loss: 74.3188 - val_mae: 6.6806\n",
            "Epoch 29/50\n",
            "23/23 [==============================] - 0s 4ms/step - loss: 62.4388 - mae: 6.0420 - val_loss: 72.4174 - val_mae: 6.6166\n",
            "Epoch 30/50\n",
            "23/23 [==============================] - 0s 4ms/step - loss: 60.4515 - mae: 5.9360 - val_loss: 71.0170 - val_mae: 6.5320\n",
            "Epoch 31/50\n",
            "23/23 [==============================] - 0s 5ms/step - loss: 59.1322 - mae: 5.8365 - val_loss: 69.2707 - val_mae: 6.4929\n",
            "Epoch 32/50\n",
            "23/23 [==============================] - 0s 4ms/step - loss: 58.3572 - mae: 5.8301 - val_loss: 71.3992 - val_mae: 6.6097\n",
            "Epoch 33/50\n",
            "23/23 [==============================] - 0s 4ms/step - loss: 56.4580 - mae: 5.7101 - val_loss: 69.3727 - val_mae: 6.2661\n",
            "Epoch 34/50\n",
            "23/23 [==============================] - 0s 5ms/step - loss: 55.8098 - mae: 5.6880 - val_loss: 66.9256 - val_mae: 6.2566\n",
            "Epoch 35/50\n",
            "23/23 [==============================] - 0s 4ms/step - loss: 54.7145 - mae: 5.5944 - val_loss: 70.2620 - val_mae: 6.6221\n",
            "Epoch 36/50\n",
            "23/23 [==============================] - 0s 5ms/step - loss: 53.1035 - mae: 5.5453 - val_loss: 65.0848 - val_mae: 6.2453\n",
            "Epoch 37/50\n",
            "23/23 [==============================] - 0s 4ms/step - loss: 52.6672 - mae: 5.4647 - val_loss: 64.6236 - val_mae: 6.2592\n",
            "Epoch 38/50\n",
            "23/23 [==============================] - 0s 4ms/step - loss: 50.7888 - mae: 5.3975 - val_loss: 62.5758 - val_mae: 6.0287\n",
            "Epoch 39/50\n",
            "23/23 [==============================] - 0s 4ms/step - loss: 49.9573 - mae: 5.3304 - val_loss: 61.1289 - val_mae: 6.0679\n",
            "Epoch 40/50\n",
            "23/23 [==============================] - 0s 4ms/step - loss: 48.9926 - mae: 5.2353 - val_loss: 61.5513 - val_mae: 6.1136\n",
            "Epoch 41/50\n",
            "23/23 [==============================] - 0s 4ms/step - loss: 48.1211 - mae: 5.2261 - val_loss: 59.3167 - val_mae: 5.9641\n",
            "Epoch 42/50\n",
            "23/23 [==============================] - 0s 4ms/step - loss: 47.4283 - mae: 5.1508 - val_loss: 57.3962 - val_mae: 5.9256\n",
            "Epoch 43/50\n",
            "23/23 [==============================] - 0s 4ms/step - loss: 45.4593 - mae: 5.1166 - val_loss: 56.1358 - val_mae: 5.7276\n",
            "Epoch 44/50\n",
            "23/23 [==============================] - 0s 4ms/step - loss: 45.2955 - mae: 5.0631 - val_loss: 54.2853 - val_mae: 5.6471\n",
            "Epoch 45/50\n",
            "23/23 [==============================] - 0s 4ms/step - loss: 45.1880 - mae: 5.0514 - val_loss: 55.1807 - val_mae: 5.7410\n",
            "Epoch 46/50\n",
            "23/23 [==============================] - 0s 4ms/step - loss: 43.2669 - mae: 4.9232 - val_loss: 53.1177 - val_mae: 5.6403\n",
            "Epoch 47/50\n",
            "23/23 [==============================] - 0s 4ms/step - loss: 42.9659 - mae: 4.9537 - val_loss: 55.8137 - val_mae: 5.7674\n",
            "Epoch 48/50\n",
            "23/23 [==============================] - 0s 4ms/step - loss: 41.8886 - mae: 4.8466 - val_loss: 53.8022 - val_mae: 5.6658\n",
            "Epoch 49/50\n",
            "23/23 [==============================] - 0s 4ms/step - loss: 41.2273 - mae: 4.8558 - val_loss: 51.3812 - val_mae: 5.5286\n",
            "Epoch 50/50\n",
            "23/23 [==============================] - 0s 4ms/step - loss: 40.8355 - mae: 4.8424 - val_loss: 53.2166 - val_mae: 5.5657\n"
          ],
          "name": "stdout"
        }
      ]
    },
    {
      "cell_type": "code",
      "metadata": {
        "colab": {
          "base_uri": "https://localhost:8080/"
        },
        "id": "TiQTpwPCZVJN",
        "outputId": "c94dc598-6c44-4b01-8891-ba879f5f5a88"
      },
      "source": [
        "test_loss,test_mae=model.evaluate(test_data,test_labels)\n",
        "print(\"test_loss:\",test_loss,\"mae:\",test_mae)\n"
      ],
      "execution_count": null,
      "outputs": [
        {
          "output_type": "stream",
          "text": [
            "10/10 [==============================] - 0s 2ms/step - loss: 51.5760 - mae: 5.6278\n",
            "test_loss: 51.57604217529297 mae: 5.627843379974365\n"
          ],
          "name": "stdout"
        }
      ]
    },
    {
      "cell_type": "code",
      "metadata": {
        "colab": {
          "base_uri": "https://localhost:8080/"
        },
        "id": "uLBZ055RZ7i_",
        "outputId": "22fefdc8-5aeb-4201-c2af-3b1e21a726ea"
      },
      "source": [
        "model.predict(test_data)[0:3]"
      ],
      "execution_count": null,
      "outputs": [
        {
          "output_type": "execute_result",
          "data": {
            "text/plain": [
              "array([[44.143764],\n",
              "       [50.629456],\n",
              "       [65.93279 ]], dtype=float32)"
            ]
          },
          "metadata": {
            "tags": []
          },
          "execution_count": 103
        }
      ]
    },
    {
      "cell_type": "code",
      "metadata": {
        "id": "g098Dam6d58C"
      },
      "source": [
        " history_dict = history.history"
      ],
      "execution_count": null,
      "outputs": []
    },
    {
      "cell_type": "code",
      "metadata": {
        "colab": {
          "base_uri": "https://localhost:8080/"
        },
        "id": "T8URCWBeeV6u",
        "outputId": "3e7c26a2-fd1e-4529-8590-4cf46be92ce9"
      },
      "source": [
        "history_dict.keys()"
      ],
      "execution_count": null,
      "outputs": [
        {
          "output_type": "execute_result",
          "data": {
            "text/plain": [
              "dict_keys(['loss', 'mae', 'val_loss', 'val_mae'])"
            ]
          },
          "metadata": {
            "tags": []
          },
          "execution_count": 105
        }
      ]
    },
    {
      "cell_type": "code",
      "metadata": {
        "colab": {
          "base_uri": "https://localhost:8080/",
          "height": 295
        },
        "id": "7ky8kbqoeWoO",
        "outputId": "3f3912bc-139e-44ef-c2bb-5ebd8fb95f48"
      },
      "source": [
        "import matplotlib.pyplot as plt\n",
        "history_dict = history.history\n",
        "loss_values = history_dict['loss'] \n",
        "val_loss_values = history_dict['val_loss'] \n",
        "epochs = range(50)\n",
        "plt.plot(epochs, loss_values, 'bo', label='Training loss')\n",
        "plt.plot(epochs, val_loss_values, 'b', label='Validation loss') \n",
        "plt.title('Training and validation accuracy')\n",
        "plt.xlabel('Epochs')\n",
        "plt.ylabel('Loss') \n",
        "plt.legend()\n",
        "plt.show()"
      ],
      "execution_count": null,
      "outputs": [
        {
          "output_type": "display_data",
          "data": {
            "image/png": "[encoded data removed]",
            "text/plain": [
              "<Figure size 432x288 with 1 Axes>"
            ]
          },
          "metadata": {
            "tags": [],
            "needs_background": "light"
          }
        }
      ]
    },
    {
      "cell_type": "code",
      "metadata": {
        "colab": {
          "base_uri": "https://localhost:8080/",
          "height": 295
        },
        "id": "2_cY18zeebpG",
        "outputId": "b2adc454-4bb1-4836-a520-e342e3b90941"
      },
      "source": [
        "mae = history_dict['mae'] \n",
        "val_mae = history_dict['val_mae'] \n",
        "plt.plot(epochs, mae, 'bo', label='Training mae')\n",
        "plt.plot(epochs, val_mae, 'b', label='Validation mae') \n",
        "plt.title('Training and validation mae')\n",
        "plt.xlabel('Epochs')\n",
        "plt.ylabel('mae') \n",
        "plt.legend()\n",
        "plt.show()"
      ],
      "execution_count": null,
      "outputs": [
        {
          "output_type": "display_data",
          "data": {
            "image/png": "[encoded data removed]",
            "text/plain": [
              "<Figure size 432x288 with 1 Axes>"
            ]
          },
          "metadata": {
            "tags": [],
            "needs_background": "light"
          }
        }
      ]
    },
    {
      "cell_type": "code",
      "metadata": {
        "id": "uz9NGoQAeji9"
      },
      "source": [
        ""
      ],
      "execution_count": null,
      "outputs": []
    }
  ]
}
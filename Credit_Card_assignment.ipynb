{
  "nbformat": 4,
  "nbformat_minor": 0,
  "metadata": {
    "colab": {
      "name": "Credit_Card assignment.ipynb",
      "provenance": [],
      "include_colab_link": true
    },
    "kernelspec": {
      "name": "python3",
      "display_name": "Python 3"
    },
    "language_info": {
      "name": "python"
    }
  },
  "cells": [
    {
      "cell_type": "markdown",
      "metadata": {
        "id": "view-in-github",
        "colab_type": "text"
      },
      "source": [
        "<a href=\"https://colab.research.google.com/github/AdeelAhmed2001/deep-learning-assignments/blob/main/Credit_Card_assignment.ipynb\" target=\"_parent\"><img src=\"https://colab.research.google.com/assets/colab-badge.svg\" alt=\"Open In Colab\"/></a>"
      ]
    },
    {
      "cell_type": "code",
      "metadata": {
        "id": "hGIFr_nmtN32"
      },
      "source": [
        "import pandas as pd\n",
        "import numpy as np\n",
        "import tensorflow as tf\n",
        "from tensorflow.keras import models\n",
        "from tensorflow.keras import layers\n",
        "from tensorflow.keras import optimizers"
      ],
      "execution_count": 1,
      "outputs": []
    },
    {
      "cell_type": "code",
      "metadata": {
        "colab": {
          "base_uri": "https://localhost:8080/",
          "height": 439
        },
        "id": "q5aMP5thtp9f",
        "outputId": "6a3e5b0d-b2c6-4f10-d54c-0a207fe9ba3f"
      },
      "source": [
        "creditcard_data=pd.read_csv(\"creditcard.csv\")\n",
        "display(creditcard_data)"
      ],
      "execution_count": 29,
      "outputs": [
        {
          "output_type": "display_data",
          "data": {
            "text/html": [
              "<div>\n",
              "<style scoped>\n",
              "    .dataframe tbody tr th:only-of-type {\n",
              "        vertical-align: middle;\n",
              "    }\n",
              "\n",
              "    .dataframe tbody tr th {\n",
              "        vertical-align: top;\n",
              "    }\n",
              "\n",
              "    .dataframe thead th {\n",
              "        text-align: right;\n",
              "    }\n",
              "</style>\n",
              "<table border=\"1\" class=\"dataframe\">\n",
              "  <thead>\n",
              "    <tr style=\"text-align: right;\">\n",
              "      <th></th>\n",
              "      <th>Time</th>\n",
              "      <th>V1</th>\n",
              "      <th>V2</th>\n",
              "      <th>V3</th>\n",
              "      <th>V4</th>\n",
              "      <th>V5</th>\n",
              "      <th>V6</th>\n",
              "      <th>V7</th>\n",
              "      <th>V8</th>\n",
              "      <th>V9</th>\n",
              "      <th>V10</th>\n",
              "      <th>V11</th>\n",
              "      <th>V12</th>\n",
              "      <th>V13</th>\n",
              "      <th>V14</th>\n",
              "      <th>V15</th>\n",
              "      <th>V16</th>\n",
              "      <th>V17</th>\n",
              "      <th>V18</th>\n",
              "      <th>V19</th>\n",
              "      <th>V20</th>\n",
              "      <th>V21</th>\n",
              "      <th>V22</th>\n",
              "      <th>V23</th>\n",
              "      <th>V24</th>\n",
              "      <th>V25</th>\n",
              "      <th>V26</th>\n",
              "      <th>V27</th>\n",
              "      <th>V28</th>\n",
              "      <th>Amount</th>\n",
              "      <th>Class</th>\n",
              "    </tr>\n",
              "  </thead>\n",
              "  <tbody>\n",
              "    <tr>\n",
              "      <th>0</th>\n",
              "      <td>0</td>\n",
              "      <td>-1.359807</td>\n",
              "      <td>-0.072781</td>\n",
              "      <td>2.536347</td>\n",
              "      <td>1.378155</td>\n",
              "      <td>-0.338321</td>\n",
              "      <td>0.462388</td>\n",
              "      <td>0.239599</td>\n",
              "      <td>0.098698</td>\n",
              "      <td>0.363787</td>\n",
              "      <td>0.090794</td>\n",
              "      <td>-0.551600</td>\n",
              "      <td>-0.617801</td>\n",
              "      <td>-0.991390</td>\n",
              "      <td>-0.311169</td>\n",
              "      <td>1.468177</td>\n",
              "      <td>-0.470401</td>\n",
              "      <td>0.207971</td>\n",
              "      <td>0.025791</td>\n",
              "      <td>0.403993</td>\n",
              "      <td>0.251412</td>\n",
              "      <td>-0.018307</td>\n",
              "      <td>0.277838</td>\n",
              "      <td>-0.110474</td>\n",
              "      <td>0.066928</td>\n",
              "      <td>0.128539</td>\n",
              "      <td>-0.189115</td>\n",
              "      <td>0.133558</td>\n",
              "      <td>-0.021053</td>\n",
              "      <td>149.62</td>\n",
              "      <td>0.0</td>\n",
              "    </tr>\n",
              "    <tr>\n",
              "      <th>1</th>\n",
              "      <td>0</td>\n",
              "      <td>1.191857</td>\n",
              "      <td>0.266151</td>\n",
              "      <td>0.166480</td>\n",
              "      <td>0.448154</td>\n",
              "      <td>0.060018</td>\n",
              "      <td>-0.082361</td>\n",
              "      <td>-0.078803</td>\n",
              "      <td>0.085102</td>\n",
              "      <td>-0.255425</td>\n",
              "      <td>-0.166974</td>\n",
              "      <td>1.612727</td>\n",
              "      <td>1.065235</td>\n",
              "      <td>0.489095</td>\n",
              "      <td>-0.143772</td>\n",
              "      <td>0.635558</td>\n",
              "      <td>0.463917</td>\n",
              "      <td>-0.114805</td>\n",
              "      <td>-0.183361</td>\n",
              "      <td>-0.145783</td>\n",
              "      <td>-0.069083</td>\n",
              "      <td>-0.225775</td>\n",
              "      <td>-0.638672</td>\n",
              "      <td>0.101288</td>\n",
              "      <td>-0.339846</td>\n",
              "      <td>0.167170</td>\n",
              "      <td>0.125895</td>\n",
              "      <td>-0.008983</td>\n",
              "      <td>0.014724</td>\n",
              "      <td>2.69</td>\n",
              "      <td>0.0</td>\n",
              "    </tr>\n",
              "    <tr>\n",
              "      <th>2</th>\n",
              "      <td>1</td>\n",
              "      <td>-1.358354</td>\n",
              "      <td>-1.340163</td>\n",
              "      <td>1.773209</td>\n",
              "      <td>0.379780</td>\n",
              "      <td>-0.503198</td>\n",
              "      <td>1.800499</td>\n",
              "      <td>0.791461</td>\n",
              "      <td>0.247676</td>\n",
              "      <td>-1.514654</td>\n",
              "      <td>0.207643</td>\n",
              "      <td>0.624501</td>\n",
              "      <td>0.066084</td>\n",
              "      <td>0.717293</td>\n",
              "      <td>-0.165946</td>\n",
              "      <td>2.345865</td>\n",
              "      <td>-2.890083</td>\n",
              "      <td>1.109969</td>\n",
              "      <td>-0.121359</td>\n",
              "      <td>-2.261857</td>\n",
              "      <td>0.524980</td>\n",
              "      <td>0.247998</td>\n",
              "      <td>0.771679</td>\n",
              "      <td>0.909412</td>\n",
              "      <td>-0.689281</td>\n",
              "      <td>-0.327642</td>\n",
              "      <td>-0.139097</td>\n",
              "      <td>-0.055353</td>\n",
              "      <td>-0.059752</td>\n",
              "      <td>378.66</td>\n",
              "      <td>0.0</td>\n",
              "    </tr>\n",
              "    <tr>\n",
              "      <th>3</th>\n",
              "      <td>1</td>\n",
              "      <td>-0.966272</td>\n",
              "      <td>-0.185226</td>\n",
              "      <td>1.792993</td>\n",
              "      <td>-0.863291</td>\n",
              "      <td>-0.010309</td>\n",
              "      <td>1.247203</td>\n",
              "      <td>0.237609</td>\n",
              "      <td>0.377436</td>\n",
              "      <td>-1.387024</td>\n",
              "      <td>-0.054952</td>\n",
              "      <td>-0.226487</td>\n",
              "      <td>0.178228</td>\n",
              "      <td>0.507757</td>\n",
              "      <td>-0.287924</td>\n",
              "      <td>-0.631418</td>\n",
              "      <td>-1.059647</td>\n",
              "      <td>-0.684093</td>\n",
              "      <td>1.965775</td>\n",
              "      <td>-1.232622</td>\n",
              "      <td>-0.208038</td>\n",
              "      <td>-0.108300</td>\n",
              "      <td>0.005274</td>\n",
              "      <td>-0.190321</td>\n",
              "      <td>-1.175575</td>\n",
              "      <td>0.647376</td>\n",
              "      <td>-0.221929</td>\n",
              "      <td>0.062723</td>\n",
              "      <td>0.061458</td>\n",
              "      <td>123.50</td>\n",
              "      <td>0.0</td>\n",
              "    </tr>\n",
              "    <tr>\n",
              "      <th>4</th>\n",
              "      <td>2</td>\n",
              "      <td>-1.158233</td>\n",
              "      <td>0.877737</td>\n",
              "      <td>1.548718</td>\n",
              "      <td>0.403034</td>\n",
              "      <td>-0.407193</td>\n",
              "      <td>0.095921</td>\n",
              "      <td>0.592941</td>\n",
              "      <td>-0.270533</td>\n",
              "      <td>0.817739</td>\n",
              "      <td>0.753074</td>\n",
              "      <td>-0.822843</td>\n",
              "      <td>0.538196</td>\n",
              "      <td>1.345852</td>\n",
              "      <td>-1.119670</td>\n",
              "      <td>0.175121</td>\n",
              "      <td>-0.451449</td>\n",
              "      <td>-0.237033</td>\n",
              "      <td>-0.038195</td>\n",
              "      <td>0.803487</td>\n",
              "      <td>0.408542</td>\n",
              "      <td>-0.009431</td>\n",
              "      <td>0.798278</td>\n",
              "      <td>-0.137458</td>\n",
              "      <td>0.141267</td>\n",
              "      <td>-0.206010</td>\n",
              "      <td>0.502292</td>\n",
              "      <td>0.219422</td>\n",
              "      <td>0.215153</td>\n",
              "      <td>69.99</td>\n",
              "      <td>0.0</td>\n",
              "    </tr>\n",
              "    <tr>\n",
              "      <th>...</th>\n",
              "      <td>...</td>\n",
              "      <td>...</td>\n",
              "      <td>...</td>\n",
              "      <td>...</td>\n",
              "      <td>...</td>\n",
              "      <td>...</td>\n",
              "      <td>...</td>\n",
              "      <td>...</td>\n",
              "      <td>...</td>\n",
              "      <td>...</td>\n",
              "      <td>...</td>\n",
              "      <td>...</td>\n",
              "      <td>...</td>\n",
              "      <td>...</td>\n",
              "      <td>...</td>\n",
              "      <td>...</td>\n",
              "      <td>...</td>\n",
              "      <td>...</td>\n",
              "      <td>...</td>\n",
              "      <td>...</td>\n",
              "      <td>...</td>\n",
              "      <td>...</td>\n",
              "      <td>...</td>\n",
              "      <td>...</td>\n",
              "      <td>...</td>\n",
              "      <td>...</td>\n",
              "      <td>...</td>\n",
              "      <td>...</td>\n",
              "      <td>...</td>\n",
              "      <td>...</td>\n",
              "      <td>...</td>\n",
              "    </tr>\n",
              "    <tr>\n",
              "      <th>53566</th>\n",
              "      <td>46047</td>\n",
              "      <td>-2.885416</td>\n",
              "      <td>-2.647887</td>\n",
              "      <td>1.903441</td>\n",
              "      <td>3.726885</td>\n",
              "      <td>3.800798</td>\n",
              "      <td>-1.644480</td>\n",
              "      <td>-1.924198</td>\n",
              "      <td>0.707696</td>\n",
              "      <td>-1.070468</td>\n",
              "      <td>1.025229</td>\n",
              "      <td>0.590276</td>\n",
              "      <td>0.531855</td>\n",
              "      <td>-0.873510</td>\n",
              "      <td>0.284279</td>\n",
              "      <td>-2.075755</td>\n",
              "      <td>0.588081</td>\n",
              "      <td>-0.515094</td>\n",
              "      <td>-0.437550</td>\n",
              "      <td>-1.863019</td>\n",
              "      <td>0.619500</td>\n",
              "      <td>0.284893</td>\n",
              "      <td>-0.268122</td>\n",
              "      <td>0.977417</td>\n",
              "      <td>0.136853</td>\n",
              "      <td>-1.144367</td>\n",
              "      <td>-0.535616</td>\n",
              "      <td>0.098494</td>\n",
              "      <td>0.305740</td>\n",
              "      <td>19.02</td>\n",
              "      <td>0.0</td>\n",
              "    </tr>\n",
              "    <tr>\n",
              "      <th>53567</th>\n",
              "      <td>46048</td>\n",
              "      <td>1.061410</td>\n",
              "      <td>0.045830</td>\n",
              "      <td>0.970401</td>\n",
              "      <td>1.102883</td>\n",
              "      <td>-0.490685</td>\n",
              "      <td>0.219968</td>\n",
              "      <td>-0.424285</td>\n",
              "      <td>0.235960</td>\n",
              "      <td>0.016498</td>\n",
              "      <td>0.116565</td>\n",
              "      <td>1.531313</td>\n",
              "      <td>1.074447</td>\n",
              "      <td>0.154534</td>\n",
              "      <td>0.294224</td>\n",
              "      <td>0.747177</td>\n",
              "      <td>0.415745</td>\n",
              "      <td>-0.593013</td>\n",
              "      <td>0.065704</td>\n",
              "      <td>-0.611904</td>\n",
              "      <td>-0.092446</td>\n",
              "      <td>0.033158</td>\n",
              "      <td>0.067127</td>\n",
              "      <td>0.053801</td>\n",
              "      <td>-0.010221</td>\n",
              "      <td>0.209877</td>\n",
              "      <td>-0.484136</td>\n",
              "      <td>0.057583</td>\n",
              "      <td>0.028018</td>\n",
              "      <td>28.70</td>\n",
              "      <td>0.0</td>\n",
              "    </tr>\n",
              "    <tr>\n",
              "      <th>53568</th>\n",
              "      <td>46048</td>\n",
              "      <td>-0.202740</td>\n",
              "      <td>0.295074</td>\n",
              "      <td>1.924698</td>\n",
              "      <td>1.009344</td>\n",
              "      <td>-0.235931</td>\n",
              "      <td>-0.272232</td>\n",
              "      <td>0.261015</td>\n",
              "      <td>-0.162146</td>\n",
              "      <td>-0.583849</td>\n",
              "      <td>0.361002</td>\n",
              "      <td>1.691854</td>\n",
              "      <td>0.931361</td>\n",
              "      <td>0.959252</td>\n",
              "      <td>-0.052824</td>\n",
              "      <td>1.124789</td>\n",
              "      <td>-0.237540</td>\n",
              "      <td>-0.265445</td>\n",
              "      <td>0.732205</td>\n",
              "      <td>1.543658</td>\n",
              "      <td>0.457057</td>\n",
              "      <td>0.321731</td>\n",
              "      <td>1.056540</td>\n",
              "      <td>0.093902</td>\n",
              "      <td>0.608566</td>\n",
              "      <td>-0.931546</td>\n",
              "      <td>0.466156</td>\n",
              "      <td>0.016695</td>\n",
              "      <td>-0.024568</td>\n",
              "      <td>54.81</td>\n",
              "      <td>0.0</td>\n",
              "    </tr>\n",
              "    <tr>\n",
              "      <th>53569</th>\n",
              "      <td>46048</td>\n",
              "      <td>-0.730116</td>\n",
              "      <td>0.796820</td>\n",
              "      <td>2.122484</td>\n",
              "      <td>-1.318082</td>\n",
              "      <td>0.019762</td>\n",
              "      <td>-0.857857</td>\n",
              "      <td>0.975752</td>\n",
              "      <td>-0.399896</td>\n",
              "      <td>0.359189</td>\n",
              "      <td>-0.053961</td>\n",
              "      <td>0.495669</td>\n",
              "      <td>0.292872</td>\n",
              "      <td>0.293502</td>\n",
              "      <td>-0.570330</td>\n",
              "      <td>0.745738</td>\n",
              "      <td>-0.056366</td>\n",
              "      <td>-0.444837</td>\n",
              "      <td>-1.099107</td>\n",
              "      <td>-1.270100</td>\n",
              "      <td>0.277419</td>\n",
              "      <td>-0.149736</td>\n",
              "      <td>0.093479</td>\n",
              "      <td>-0.056586</td>\n",
              "      <td>0.650087</td>\n",
              "      <td>-0.473889</td>\n",
              "      <td>0.662115</td>\n",
              "      <td>0.060486</td>\n",
              "      <td>-0.208536</td>\n",
              "      <td>4.53</td>\n",
              "      <td>0.0</td>\n",
              "    </tr>\n",
              "    <tr>\n",
              "      <th>53570</th>\n",
              "      <td>46050</td>\n",
              "      <td>0.791672</td>\n",
              "      <td>-0.522991</td>\n",
              "      <td>0.036747</td>\n",
              "      <td>1.204803</td>\n",
              "      <td>-0.262390</td>\n",
              "      <td>-0.056153</td>\n",
              "      <td>0.263614</td>\n",
              "      <td>-0.130209</td>\n",
              "      <td>0.125423</td>\n",
              "      <td>-0.095990</td>\n",
              "      <td>-1.230483</td>\n",
              "      <td>0.060346</td>\n",
              "      <td>0.612806</td>\n",
              "      <td>0.154641</td>\n",
              "      <td>1.168423</td>\n",
              "      <td>0.677741</td>\n",
              "      <td>-0.927278</td>\n",
              "      <td>0.245778</td>\n",
              "      <td>-0.173554</td>\n",
              "      <td>0.435643</td>\n",
              "      <td>0.013131</td>\n",
              "      <td>-0.000000</td>\n",
              "      <td>NaN</td>\n",
              "      <td>NaN</td>\n",
              "      <td>NaN</td>\n",
              "      <td>NaN</td>\n",
              "      <td>NaN</td>\n",
              "      <td>NaN</td>\n",
              "      <td>NaN</td>\n",
              "      <td>NaN</td>\n",
              "    </tr>\n",
              "  </tbody>\n",
              "</table>\n",
              "<p>53571 rows × 31 columns</p>\n",
              "</div>"
            ],
            "text/plain": [
              "        Time        V1        V2        V3  ...       V27       V28  Amount  Class\n",
              "0          0 -1.359807 -0.072781  2.536347  ...  0.133558 -0.021053  149.62    0.0\n",
              "1          0  1.191857  0.266151  0.166480  ... -0.008983  0.014724    2.69    0.0\n",
              "2          1 -1.358354 -1.340163  1.773209  ... -0.055353 -0.059752  378.66    0.0\n",
              "3          1 -0.966272 -0.185226  1.792993  ...  0.062723  0.061458  123.50    0.0\n",
              "4          2 -1.158233  0.877737  1.548718  ...  0.219422  0.215153   69.99    0.0\n",
              "...      ...       ...       ...       ...  ...       ...       ...     ...    ...\n",
              "53566  46047 -2.885416 -2.647887  1.903441  ...  0.098494  0.305740   19.02    0.0\n",
              "53567  46048  1.061410  0.045830  0.970401  ...  0.057583  0.028018   28.70    0.0\n",
              "53568  46048 -0.202740  0.295074  1.924698  ...  0.016695 -0.024568   54.81    0.0\n",
              "53569  46048 -0.730116  0.796820  2.122484  ...  0.060486 -0.208536    4.53    0.0\n",
              "53570  46050  0.791672 -0.522991  0.036747  ...       NaN       NaN     NaN    NaN\n",
              "\n",
              "[53571 rows x 31 columns]"
            ]
          },
          "metadata": {
            "tags": []
          }
        }
      ]
    },
    {
      "cell_type": "code",
      "metadata": {
        "colab": {
          "base_uri": "https://localhost:8080/"
        },
        "id": "S78gHxHCj7vG",
        "outputId": "66f9aad0-fc94-49c4-f2a2-0e17e1a5a758"
      },
      "source": [
        "creditcard_data.shape"
      ],
      "execution_count": 30,
      "outputs": [
        {
          "output_type": "execute_result",
          "data": {
            "text/plain": [
              "(53571, 31)"
            ]
          },
          "metadata": {
            "tags": []
          },
          "execution_count": 30
        }
      ]
    },
    {
      "cell_type": "code",
      "metadata": {
        "colab": {
          "base_uri": "https://localhost:8080/"
        },
        "id": "D_Zm4214j8J8",
        "outputId": "bc421ade-e0ef-4e06-a665-de71954ad24d"
      },
      "source": [
        "creditcard_data.ndim"
      ],
      "execution_count": 31,
      "outputs": [
        {
          "output_type": "execute_result",
          "data": {
            "text/plain": [
              "2"
            ]
          },
          "metadata": {
            "tags": []
          },
          "execution_count": 31
        }
      ]
    },
    {
      "cell_type": "code",
      "metadata": {
        "colab": {
          "base_uri": "https://localhost:8080/"
        },
        "id": "WXsVn0rtj8S1",
        "outputId": "2575dfbd-e65e-4465-8b93-4ce8398ea2c8"
      },
      "source": [
        "creditcard_data[\"V2\"]"
      ],
      "execution_count": 32,
      "outputs": [
        {
          "output_type": "execute_result",
          "data": {
            "text/plain": [
              "0       -0.072781\n",
              "1        0.266151\n",
              "2       -1.340163\n",
              "3       -0.185226\n",
              "4        0.877737\n",
              "           ...   \n",
              "53566   -2.647887\n",
              "53567    0.045830\n",
              "53568    0.295074\n",
              "53569    0.796820\n",
              "53570   -0.522991\n",
              "Name: V2, Length: 53571, dtype: float64"
            ]
          },
          "metadata": {
            "tags": []
          },
          "execution_count": 32
        }
      ]
    },
    {
      "cell_type": "code",
      "metadata": {
        "colab": {
          "base_uri": "https://localhost:8080/"
        },
        "id": "ZqB8Rip0t_ht",
        "outputId": "b4d00d56-ada7-4eba-ae27-30a0e0ec52c0"
      },
      "source": [
        "creditcard_data.info()"
      ],
      "execution_count": 33,
      "outputs": [
        {
          "output_type": "stream",
          "text": [
            "<class 'pandas.core.frame.DataFrame'>\n",
            "RangeIndex: 53571 entries, 0 to 53570\n",
            "Data columns (total 31 columns):\n",
            " #   Column  Non-Null Count  Dtype  \n",
            "---  ------  --------------  -----  \n",
            " 0   Time    53571 non-null  int64  \n",
            " 1   V1      53571 non-null  float64\n",
            " 2   V2      53571 non-null  float64\n",
            " 3   V3      53571 non-null  float64\n",
            " 4   V4      53571 non-null  float64\n",
            " 5   V5      53571 non-null  float64\n",
            " 6   V6      53571 non-null  float64\n",
            " 7   V7      53571 non-null  float64\n",
            " 8   V8      53571 non-null  float64\n",
            " 9   V9      53571 non-null  float64\n",
            " 10  V10     53571 non-null  float64\n",
            " 11  V11     53571 non-null  float64\n",
            " 12  V12     53571 non-null  float64\n",
            " 13  V13     53571 non-null  float64\n",
            " 14  V14     53571 non-null  float64\n",
            " 15  V15     53571 non-null  float64\n",
            " 16  V16     53571 non-null  float64\n",
            " 17  V17     53571 non-null  float64\n",
            " 18  V18     53571 non-null  float64\n",
            " 19  V19     53571 non-null  float64\n",
            " 20  V20     53571 non-null  float64\n",
            " 21  V21     53571 non-null  float64\n",
            " 22  V22     53571 non-null  float64\n",
            " 23  V23     53570 non-null  float64\n",
            " 24  V24     53570 non-null  float64\n",
            " 25  V25     53570 non-null  float64\n",
            " 26  V26     53570 non-null  float64\n",
            " 27  V27     53570 non-null  float64\n",
            " 28  V28     53570 non-null  float64\n",
            " 29  Amount  53570 non-null  float64\n",
            " 30  Class   53570 non-null  float64\n",
            "dtypes: float64(30), int64(1)\n",
            "memory usage: 12.7 MB\n"
          ],
          "name": "stdout"
        }
      ]
    },
    {
      "cell_type": "code",
      "metadata": {
        "colab": {
          "base_uri": "https://localhost:8080/"
        },
        "id": "ohT4fr3uuPKr",
        "outputId": "bf0cb661-207a-47db-d06b-43e9a7a7be5e"
      },
      "source": [
        "pd.isnull(creditcard_data).sum()"
      ],
      "execution_count": 34,
      "outputs": [
        {
          "output_type": "execute_result",
          "data": {
            "text/plain": [
              "Time      0\n",
              "V1        0\n",
              "V2        0\n",
              "V3        0\n",
              "V4        0\n",
              "V5        0\n",
              "V6        0\n",
              "V7        0\n",
              "V8        0\n",
              "V9        0\n",
              "V10       0\n",
              "V11       0\n",
              "V12       0\n",
              "V13       0\n",
              "V14       0\n",
              "V15       0\n",
              "V16       0\n",
              "V17       0\n",
              "V18       0\n",
              "V19       0\n",
              "V20       0\n",
              "V21       0\n",
              "V22       0\n",
              "V23       1\n",
              "V24       1\n",
              "V25       1\n",
              "V26       1\n",
              "V27       1\n",
              "V28       1\n",
              "Amount    1\n",
              "Class     1\n",
              "dtype: int64"
            ]
          },
          "metadata": {
            "tags": []
          },
          "execution_count": 34
        }
      ]
    },
    {
      "cell_type": "code",
      "metadata": {
        "colab": {
          "base_uri": "https://localhost:8080/",
          "height": 439
        },
        "id": "WYiNkOv-uioX",
        "outputId": "0d4b5983-e277-44f5-bded-6c5d88413779"
      },
      "source": [
        "creditcard_data=creditcard_data.fillna(creditcard_data.mean())\n",
        "creditcard_data"
      ],
      "execution_count": 35,
      "outputs": [
        {
          "output_type": "execute_result",
          "data": {
            "text/html": [
              "<div>\n",
              "<style scoped>\n",
              "    .dataframe tbody tr th:only-of-type {\n",
              "        vertical-align: middle;\n",
              "    }\n",
              "\n",
              "    .dataframe tbody tr th {\n",
              "        vertical-align: top;\n",
              "    }\n",
              "\n",
              "    .dataframe thead th {\n",
              "        text-align: right;\n",
              "    }\n",
              "</style>\n",
              "<table border=\"1\" class=\"dataframe\">\n",
              "  <thead>\n",
              "    <tr style=\"text-align: right;\">\n",
              "      <th></th>\n",
              "      <th>Time</th>\n",
              "      <th>V1</th>\n",
              "      <th>V2</th>\n",
              "      <th>V3</th>\n",
              "      <th>V4</th>\n",
              "      <th>V5</th>\n",
              "      <th>V6</th>\n",
              "      <th>V7</th>\n",
              "      <th>V8</th>\n",
              "      <th>V9</th>\n",
              "      <th>V10</th>\n",
              "      <th>V11</th>\n",
              "      <th>V12</th>\n",
              "      <th>V13</th>\n",
              "      <th>V14</th>\n",
              "      <th>V15</th>\n",
              "      <th>V16</th>\n",
              "      <th>V17</th>\n",
              "      <th>V18</th>\n",
              "      <th>V19</th>\n",
              "      <th>V20</th>\n",
              "      <th>V21</th>\n",
              "      <th>V22</th>\n",
              "      <th>V23</th>\n",
              "      <th>V24</th>\n",
              "      <th>V25</th>\n",
              "      <th>V26</th>\n",
              "      <th>V27</th>\n",
              "      <th>V28</th>\n",
              "      <th>Amount</th>\n",
              "      <th>Class</th>\n",
              "    </tr>\n",
              "  </thead>\n",
              "  <tbody>\n",
              "    <tr>\n",
              "      <th>0</th>\n",
              "      <td>0</td>\n",
              "      <td>-1.359807</td>\n",
              "      <td>-0.072781</td>\n",
              "      <td>2.536347</td>\n",
              "      <td>1.378155</td>\n",
              "      <td>-0.338321</td>\n",
              "      <td>0.462388</td>\n",
              "      <td>0.239599</td>\n",
              "      <td>0.098698</td>\n",
              "      <td>0.363787</td>\n",
              "      <td>0.090794</td>\n",
              "      <td>-0.551600</td>\n",
              "      <td>-0.617801</td>\n",
              "      <td>-0.991390</td>\n",
              "      <td>-0.311169</td>\n",
              "      <td>1.468177</td>\n",
              "      <td>-0.470401</td>\n",
              "      <td>0.207971</td>\n",
              "      <td>0.025791</td>\n",
              "      <td>0.403993</td>\n",
              "      <td>0.251412</td>\n",
              "      <td>-0.018307</td>\n",
              "      <td>0.277838</td>\n",
              "      <td>-0.110474</td>\n",
              "      <td>0.066928</td>\n",
              "      <td>0.128539</td>\n",
              "      <td>-0.189115</td>\n",
              "      <td>0.133558</td>\n",
              "      <td>-0.021053</td>\n",
              "      <td>149.62000</td>\n",
              "      <td>0.000000</td>\n",
              "    </tr>\n",
              "    <tr>\n",
              "      <th>1</th>\n",
              "      <td>0</td>\n",
              "      <td>1.191857</td>\n",
              "      <td>0.266151</td>\n",
              "      <td>0.166480</td>\n",
              "      <td>0.448154</td>\n",
              "      <td>0.060018</td>\n",
              "      <td>-0.082361</td>\n",
              "      <td>-0.078803</td>\n",
              "      <td>0.085102</td>\n",
              "      <td>-0.255425</td>\n",
              "      <td>-0.166974</td>\n",
              "      <td>1.612727</td>\n",
              "      <td>1.065235</td>\n",
              "      <td>0.489095</td>\n",
              "      <td>-0.143772</td>\n",
              "      <td>0.635558</td>\n",
              "      <td>0.463917</td>\n",
              "      <td>-0.114805</td>\n",
              "      <td>-0.183361</td>\n",
              "      <td>-0.145783</td>\n",
              "      <td>-0.069083</td>\n",
              "      <td>-0.225775</td>\n",
              "      <td>-0.638672</td>\n",
              "      <td>0.101288</td>\n",
              "      <td>-0.339846</td>\n",
              "      <td>0.167170</td>\n",
              "      <td>0.125895</td>\n",
              "      <td>-0.008983</td>\n",
              "      <td>0.014724</td>\n",
              "      <td>2.69000</td>\n",
              "      <td>0.000000</td>\n",
              "    </tr>\n",
              "    <tr>\n",
              "      <th>2</th>\n",
              "      <td>1</td>\n",
              "      <td>-1.358354</td>\n",
              "      <td>-1.340163</td>\n",
              "      <td>1.773209</td>\n",
              "      <td>0.379780</td>\n",
              "      <td>-0.503198</td>\n",
              "      <td>1.800499</td>\n",
              "      <td>0.791461</td>\n",
              "      <td>0.247676</td>\n",
              "      <td>-1.514654</td>\n",
              "      <td>0.207643</td>\n",
              "      <td>0.624501</td>\n",
              "      <td>0.066084</td>\n",
              "      <td>0.717293</td>\n",
              "      <td>-0.165946</td>\n",
              "      <td>2.345865</td>\n",
              "      <td>-2.890083</td>\n",
              "      <td>1.109969</td>\n",
              "      <td>-0.121359</td>\n",
              "      <td>-2.261857</td>\n",
              "      <td>0.524980</td>\n",
              "      <td>0.247998</td>\n",
              "      <td>0.771679</td>\n",
              "      <td>0.909412</td>\n",
              "      <td>-0.689281</td>\n",
              "      <td>-0.327642</td>\n",
              "      <td>-0.139097</td>\n",
              "      <td>-0.055353</td>\n",
              "      <td>-0.059752</td>\n",
              "      <td>378.66000</td>\n",
              "      <td>0.000000</td>\n",
              "    </tr>\n",
              "    <tr>\n",
              "      <th>3</th>\n",
              "      <td>1</td>\n",
              "      <td>-0.966272</td>\n",
              "      <td>-0.185226</td>\n",
              "      <td>1.792993</td>\n",
              "      <td>-0.863291</td>\n",
              "      <td>-0.010309</td>\n",
              "      <td>1.247203</td>\n",
              "      <td>0.237609</td>\n",
              "      <td>0.377436</td>\n",
              "      <td>-1.387024</td>\n",
              "      <td>-0.054952</td>\n",
              "      <td>-0.226487</td>\n",
              "      <td>0.178228</td>\n",
              "      <td>0.507757</td>\n",
              "      <td>-0.287924</td>\n",
              "      <td>-0.631418</td>\n",
              "      <td>-1.059647</td>\n",
              "      <td>-0.684093</td>\n",
              "      <td>1.965775</td>\n",
              "      <td>-1.232622</td>\n",
              "      <td>-0.208038</td>\n",
              "      <td>-0.108300</td>\n",
              "      <td>0.005274</td>\n",
              "      <td>-0.190321</td>\n",
              "      <td>-1.175575</td>\n",
              "      <td>0.647376</td>\n",
              "      <td>-0.221929</td>\n",
              "      <td>0.062723</td>\n",
              "      <td>0.061458</td>\n",
              "      <td>123.50000</td>\n",
              "      <td>0.000000</td>\n",
              "    </tr>\n",
              "    <tr>\n",
              "      <th>4</th>\n",
              "      <td>2</td>\n",
              "      <td>-1.158233</td>\n",
              "      <td>0.877737</td>\n",
              "      <td>1.548718</td>\n",
              "      <td>0.403034</td>\n",
              "      <td>-0.407193</td>\n",
              "      <td>0.095921</td>\n",
              "      <td>0.592941</td>\n",
              "      <td>-0.270533</td>\n",
              "      <td>0.817739</td>\n",
              "      <td>0.753074</td>\n",
              "      <td>-0.822843</td>\n",
              "      <td>0.538196</td>\n",
              "      <td>1.345852</td>\n",
              "      <td>-1.119670</td>\n",
              "      <td>0.175121</td>\n",
              "      <td>-0.451449</td>\n",
              "      <td>-0.237033</td>\n",
              "      <td>-0.038195</td>\n",
              "      <td>0.803487</td>\n",
              "      <td>0.408542</td>\n",
              "      <td>-0.009431</td>\n",
              "      <td>0.798278</td>\n",
              "      <td>-0.137458</td>\n",
              "      <td>0.141267</td>\n",
              "      <td>-0.206010</td>\n",
              "      <td>0.502292</td>\n",
              "      <td>0.219422</td>\n",
              "      <td>0.215153</td>\n",
              "      <td>69.99000</td>\n",
              "      <td>0.000000</td>\n",
              "    </tr>\n",
              "    <tr>\n",
              "      <th>...</th>\n",
              "      <td>...</td>\n",
              "      <td>...</td>\n",
              "      <td>...</td>\n",
              "      <td>...</td>\n",
              "      <td>...</td>\n",
              "      <td>...</td>\n",
              "      <td>...</td>\n",
              "      <td>...</td>\n",
              "      <td>...</td>\n",
              "      <td>...</td>\n",
              "      <td>...</td>\n",
              "      <td>...</td>\n",
              "      <td>...</td>\n",
              "      <td>...</td>\n",
              "      <td>...</td>\n",
              "      <td>...</td>\n",
              "      <td>...</td>\n",
              "      <td>...</td>\n",
              "      <td>...</td>\n",
              "      <td>...</td>\n",
              "      <td>...</td>\n",
              "      <td>...</td>\n",
              "      <td>...</td>\n",
              "      <td>...</td>\n",
              "      <td>...</td>\n",
              "      <td>...</td>\n",
              "      <td>...</td>\n",
              "      <td>...</td>\n",
              "      <td>...</td>\n",
              "      <td>...</td>\n",
              "      <td>...</td>\n",
              "    </tr>\n",
              "    <tr>\n",
              "      <th>53566</th>\n",
              "      <td>46047</td>\n",
              "      <td>-2.885416</td>\n",
              "      <td>-2.647887</td>\n",
              "      <td>1.903441</td>\n",
              "      <td>3.726885</td>\n",
              "      <td>3.800798</td>\n",
              "      <td>-1.644480</td>\n",
              "      <td>-1.924198</td>\n",
              "      <td>0.707696</td>\n",
              "      <td>-1.070468</td>\n",
              "      <td>1.025229</td>\n",
              "      <td>0.590276</td>\n",
              "      <td>0.531855</td>\n",
              "      <td>-0.873510</td>\n",
              "      <td>0.284279</td>\n",
              "      <td>-2.075755</td>\n",
              "      <td>0.588081</td>\n",
              "      <td>-0.515094</td>\n",
              "      <td>-0.437550</td>\n",
              "      <td>-1.863019</td>\n",
              "      <td>0.619500</td>\n",
              "      <td>0.284893</td>\n",
              "      <td>-0.268122</td>\n",
              "      <td>0.977417</td>\n",
              "      <td>0.136853</td>\n",
              "      <td>-1.144367</td>\n",
              "      <td>-0.535616</td>\n",
              "      <td>0.098494</td>\n",
              "      <td>0.305740</td>\n",
              "      <td>19.02000</td>\n",
              "      <td>0.000000</td>\n",
              "    </tr>\n",
              "    <tr>\n",
              "      <th>53567</th>\n",
              "      <td>46048</td>\n",
              "      <td>1.061410</td>\n",
              "      <td>0.045830</td>\n",
              "      <td>0.970401</td>\n",
              "      <td>1.102883</td>\n",
              "      <td>-0.490685</td>\n",
              "      <td>0.219968</td>\n",
              "      <td>-0.424285</td>\n",
              "      <td>0.235960</td>\n",
              "      <td>0.016498</td>\n",
              "      <td>0.116565</td>\n",
              "      <td>1.531313</td>\n",
              "      <td>1.074447</td>\n",
              "      <td>0.154534</td>\n",
              "      <td>0.294224</td>\n",
              "      <td>0.747177</td>\n",
              "      <td>0.415745</td>\n",
              "      <td>-0.593013</td>\n",
              "      <td>0.065704</td>\n",
              "      <td>-0.611904</td>\n",
              "      <td>-0.092446</td>\n",
              "      <td>0.033158</td>\n",
              "      <td>0.067127</td>\n",
              "      <td>0.053801</td>\n",
              "      <td>-0.010221</td>\n",
              "      <td>0.209877</td>\n",
              "      <td>-0.484136</td>\n",
              "      <td>0.057583</td>\n",
              "      <td>0.028018</td>\n",
              "      <td>28.70000</td>\n",
              "      <td>0.000000</td>\n",
              "    </tr>\n",
              "    <tr>\n",
              "      <th>53568</th>\n",
              "      <td>46048</td>\n",
              "      <td>-0.202740</td>\n",
              "      <td>0.295074</td>\n",
              "      <td>1.924698</td>\n",
              "      <td>1.009344</td>\n",
              "      <td>-0.235931</td>\n",
              "      <td>-0.272232</td>\n",
              "      <td>0.261015</td>\n",
              "      <td>-0.162146</td>\n",
              "      <td>-0.583849</td>\n",
              "      <td>0.361002</td>\n",
              "      <td>1.691854</td>\n",
              "      <td>0.931361</td>\n",
              "      <td>0.959252</td>\n",
              "      <td>-0.052824</td>\n",
              "      <td>1.124789</td>\n",
              "      <td>-0.237540</td>\n",
              "      <td>-0.265445</td>\n",
              "      <td>0.732205</td>\n",
              "      <td>1.543658</td>\n",
              "      <td>0.457057</td>\n",
              "      <td>0.321731</td>\n",
              "      <td>1.056540</td>\n",
              "      <td>0.093902</td>\n",
              "      <td>0.608566</td>\n",
              "      <td>-0.931546</td>\n",
              "      <td>0.466156</td>\n",
              "      <td>0.016695</td>\n",
              "      <td>-0.024568</td>\n",
              "      <td>54.81000</td>\n",
              "      <td>0.000000</td>\n",
              "    </tr>\n",
              "    <tr>\n",
              "      <th>53569</th>\n",
              "      <td>46048</td>\n",
              "      <td>-0.730116</td>\n",
              "      <td>0.796820</td>\n",
              "      <td>2.122484</td>\n",
              "      <td>-1.318082</td>\n",
              "      <td>0.019762</td>\n",
              "      <td>-0.857857</td>\n",
              "      <td>0.975752</td>\n",
              "      <td>-0.399896</td>\n",
              "      <td>0.359189</td>\n",
              "      <td>-0.053961</td>\n",
              "      <td>0.495669</td>\n",
              "      <td>0.292872</td>\n",
              "      <td>0.293502</td>\n",
              "      <td>-0.570330</td>\n",
              "      <td>0.745738</td>\n",
              "      <td>-0.056366</td>\n",
              "      <td>-0.444837</td>\n",
              "      <td>-1.099107</td>\n",
              "      <td>-1.270100</td>\n",
              "      <td>0.277419</td>\n",
              "      <td>-0.149736</td>\n",
              "      <td>0.093479</td>\n",
              "      <td>-0.056586</td>\n",
              "      <td>0.650087</td>\n",
              "      <td>-0.473889</td>\n",
              "      <td>0.662115</td>\n",
              "      <td>0.060486</td>\n",
              "      <td>-0.208536</td>\n",
              "      <td>4.53000</td>\n",
              "      <td>0.000000</td>\n",
              "    </tr>\n",
              "    <tr>\n",
              "      <th>53570</th>\n",
              "      <td>46050</td>\n",
              "      <td>0.791672</td>\n",
              "      <td>-0.522991</td>\n",
              "      <td>0.036747</td>\n",
              "      <td>1.204803</td>\n",
              "      <td>-0.262390</td>\n",
              "      <td>-0.056153</td>\n",
              "      <td>0.263614</td>\n",
              "      <td>-0.130209</td>\n",
              "      <td>0.125423</td>\n",
              "      <td>-0.095990</td>\n",
              "      <td>-1.230483</td>\n",
              "      <td>0.060346</td>\n",
              "      <td>0.612806</td>\n",
              "      <td>0.154641</td>\n",
              "      <td>1.168423</td>\n",
              "      <td>0.677741</td>\n",
              "      <td>-0.927278</td>\n",
              "      <td>0.245778</td>\n",
              "      <td>-0.173554</td>\n",
              "      <td>0.435643</td>\n",
              "      <td>0.013131</td>\n",
              "      <td>-0.000000</td>\n",
              "      <td>-0.039090</td>\n",
              "      <td>0.007830</td>\n",
              "      <td>0.135096</td>\n",
              "      <td>0.020158</td>\n",
              "      <td>0.003957</td>\n",
              "      <td>0.003972</td>\n",
              "      <td>94.26087</td>\n",
              "      <td>0.002856</td>\n",
              "    </tr>\n",
              "  </tbody>\n",
              "</table>\n",
              "<p>53571 rows × 31 columns</p>\n",
              "</div>"
            ],
            "text/plain": [
              "        Time        V1        V2  ...       V28     Amount     Class\n",
              "0          0 -1.359807 -0.072781  ... -0.021053  149.62000  0.000000\n",
              "1          0  1.191857  0.266151  ...  0.014724    2.69000  0.000000\n",
              "2          1 -1.358354 -1.340163  ... -0.059752  378.66000  0.000000\n",
              "3          1 -0.966272 -0.185226  ...  0.061458  123.50000  0.000000\n",
              "4          2 -1.158233  0.877737  ...  0.215153   69.99000  0.000000\n",
              "...      ...       ...       ...  ...       ...        ...       ...\n",
              "53566  46047 -2.885416 -2.647887  ...  0.305740   19.02000  0.000000\n",
              "53567  46048  1.061410  0.045830  ...  0.028018   28.70000  0.000000\n",
              "53568  46048 -0.202740  0.295074  ... -0.024568   54.81000  0.000000\n",
              "53569  46048 -0.730116  0.796820  ... -0.208536    4.53000  0.000000\n",
              "53570  46050  0.791672 -0.522991  ...  0.003972   94.26087  0.002856\n",
              "\n",
              "[53571 rows x 31 columns]"
            ]
          },
          "metadata": {
            "tags": []
          },
          "execution_count": 35
        }
      ]
    },
    {
      "cell_type": "code",
      "metadata": {
        "colab": {
          "base_uri": "https://localhost:8080/"
        },
        "id": "Wg7cJ7wGvQR-",
        "outputId": "3bf4c848-ca49-43cd-8823-864e308588c0"
      },
      "source": [
        "pd.isnull(creditcard_data).sum()"
      ],
      "execution_count": 36,
      "outputs": [
        {
          "output_type": "execute_result",
          "data": {
            "text/plain": [
              "Time      0\n",
              "V1        0\n",
              "V2        0\n",
              "V3        0\n",
              "V4        0\n",
              "V5        0\n",
              "V6        0\n",
              "V7        0\n",
              "V8        0\n",
              "V9        0\n",
              "V10       0\n",
              "V11       0\n",
              "V12       0\n",
              "V13       0\n",
              "V14       0\n",
              "V15       0\n",
              "V16       0\n",
              "V17       0\n",
              "V18       0\n",
              "V19       0\n",
              "V20       0\n",
              "V21       0\n",
              "V22       0\n",
              "V23       0\n",
              "V24       0\n",
              "V25       0\n",
              "V26       0\n",
              "V27       0\n",
              "V28       0\n",
              "Amount    0\n",
              "Class     0\n",
              "dtype: int64"
            ]
          },
          "metadata": {
            "tags": []
          },
          "execution_count": 36
        }
      ]
    },
    {
      "cell_type": "code",
      "metadata": {
        "id": "ey5BGidOvVOP"
      },
      "source": [
        "x=creditcard_data.iloc[:,:30]\n",
        "y=creditcard_data.iloc[:,30]\n"
      ],
      "execution_count": 37,
      "outputs": []
    },
    {
      "cell_type": "code",
      "metadata": {
        "id": "VvGORN2VwqQD"
      },
      "source": [
        "from sklearn.model_selection import train_test_split\n",
        "train_data,test_data,train_labels,test_labels=train_test_split(x,y,test_size=0.30,random_state=69)"
      ],
      "execution_count": 38,
      "outputs": []
    },
    {
      "cell_type": "code",
      "metadata": {
        "id": "8QvrCmYWAieU"
      },
      "source": [
        "train_data=np.asarray(train_data)\n",
        "test_data=np.asarray(test_data)"
      ],
      "execution_count": 39,
      "outputs": []
    },
    {
      "cell_type": "code",
      "metadata": {
        "colab": {
          "base_uri": "https://localhost:8080/"
        },
        "id": "8KlZqxRraYiA",
        "outputId": "476f165f-d410-469c-8d9a-d005429156d2"
      },
      "source": [
        "train_data[2]"
      ],
      "execution_count": 40,
      "outputs": [
        {
          "output_type": "execute_result",
          "data": {
            "text/plain": [
              "array([ 1.72130000e+04, -2.41322174e+00, -4.48116316e-01,  1.66513715e+00,\n",
              "        8.36478897e-01, -2.92468051e+00,  3.47786006e+00,  3.47372748e+00,\n",
              "       -1.47809427e+00,  9.93267631e-01, -4.77322716e-01,  2.35592044e+00,\n",
              "       -2.60446663e+00,  1.05113340e+00,  6.44773427e-01, -1.08734358e+00,\n",
              "        9.81962801e-01, -4.19516307e-02, -2.22700039e-01, -2.14564452e+00,\n",
              "       -1.22553547e+00,  3.40198538e-01,  2.69291305e-01, -1.71839206e-01,\n",
              "       -2.18645006e-01,  5.28914456e-02,  8.89935334e-01,  8.58807579e-02,\n",
              "       -5.09234554e-01,  8.67760000e+02])"
            ]
          },
          "metadata": {
            "tags": []
          },
          "execution_count": 40
        }
      ]
    },
    {
      "cell_type": "code",
      "metadata": {
        "id": "A71tBePKa7dc"
      },
      "source": [
        "train_labels=np.asarray(train_labels)\n",
        "test_labels=np.asarray(test_labels)"
      ],
      "execution_count": 41,
      "outputs": []
    },
    {
      "cell_type": "code",
      "metadata": {
        "colab": {
          "base_uri": "https://localhost:8080/"
        },
        "id": "sw96N2T5cP6c",
        "outputId": "bb0a01f4-9f5b-4299-9f91-a562b9dc9951"
      },
      "source": [
        "train_labels[18]"
      ],
      "execution_count": 42,
      "outputs": [
        {
          "output_type": "execute_result",
          "data": {
            "text/plain": [
              "0.0"
            ]
          },
          "metadata": {
            "tags": []
          },
          "execution_count": 42
        }
      ]
    },
    {
      "cell_type": "code",
      "metadata": {
        "id": "775ARfqO2kuH"
      },
      "source": [
        "model = models.Sequential()\n",
        "model.add(layers.Dense(16, activation='relu', input_shape=(30,)))\n",
        "model.add(layers.Dense(16, activation='relu'))\n",
        "model.add(layers.Dense(1, activation='sigmoid'))"
      ],
      "execution_count": 43,
      "outputs": []
    },
    {
      "cell_type": "code",
      "metadata": {
        "id": "DtKVf6gl3cPl"
      },
      "source": [
        "model.compile(optimizer='rmsprop', loss='binary_crossentropy', metrics=['accuracy'])"
      ],
      "execution_count": 44,
      "outputs": []
    },
    {
      "cell_type": "code",
      "metadata": {
        "colab": {
          "base_uri": "https://localhost:8080/"
        },
        "id": "ybQjTUK_5Dqj",
        "outputId": "608bdfdd-44ef-45b9-eafc-7df3c29a669f"
      },
      "source": [
        "history=model.fit(train_data,train_labels,epochs=60,validation_split=0.2)"
      ],
      "execution_count": 45,
      "outputs": [
        {
          "output_type": "stream",
          "text": [
            "Epoch 1/60\n",
            "938/938 [==============================] - 2s 2ms/step - loss: 198.0255 - accuracy: 0.8958 - val_loss: 0.3462 - val_accuracy: 0.9968\n",
            "Epoch 2/60\n",
            "938/938 [==============================] - 1s 1ms/step - loss: 2.5555 - accuracy: 0.9789 - val_loss: 1.2960 - val_accuracy: 0.9969\n",
            "Epoch 3/60\n",
            "938/938 [==============================] - 1s 1ms/step - loss: 2.4663 - accuracy: 0.9857 - val_loss: 0.7298 - val_accuracy: 0.9971\n",
            "Epoch 4/60\n",
            "938/938 [==============================] - 1s 1ms/step - loss: 3.2738 - accuracy: 0.9843 - val_loss: 0.6258 - val_accuracy: 0.9971\n",
            "Epoch 5/60\n",
            "938/938 [==============================] - 1s 1ms/step - loss: 4.1288 - accuracy: 0.9845 - val_loss: 1.1427 - val_accuracy: 0.9969\n",
            "Epoch 6/60\n",
            "938/938 [==============================] - 1s 1ms/step - loss: 2.6549 - accuracy: 0.9846 - val_loss: 0.3372 - val_accuracy: 0.9973\n",
            "Epoch 7/60\n",
            "938/938 [==============================] - 1s 1ms/step - loss: 3.0973 - accuracy: 0.9861 - val_loss: 0.3708 - val_accuracy: 0.9975\n",
            "Epoch 8/60\n",
            "938/938 [==============================] - 1s 1ms/step - loss: 2.4312 - accuracy: 0.9840 - val_loss: 0.7904 - val_accuracy: 0.9972\n",
            "Epoch 9/60\n",
            "938/938 [==============================] - 1s 1ms/step - loss: 2.1210 - accuracy: 0.9883 - val_loss: 0.5865 - val_accuracy: 0.9972\n",
            "Epoch 10/60\n",
            "938/938 [==============================] - 1s 1ms/step - loss: 1.9074 - accuracy: 0.9854 - val_loss: 0.8087 - val_accuracy: 0.9972\n",
            "Epoch 11/60\n",
            "938/938 [==============================] - 1s 1ms/step - loss: 1.7523 - accuracy: 0.9903 - val_loss: 0.7136 - val_accuracy: 0.9972\n",
            "Epoch 12/60\n",
            "938/938 [==============================] - 1s 1ms/step - loss: 3.0415 - accuracy: 0.9854 - val_loss: 0.6373 - val_accuracy: 0.9972\n",
            "Epoch 13/60\n",
            "938/938 [==============================] - 1s 1ms/step - loss: 2.4935 - accuracy: 0.9880 - val_loss: 0.4387 - val_accuracy: 0.9976\n",
            "Epoch 14/60\n",
            "938/938 [==============================] - 1s 1ms/step - loss: 2.4001 - accuracy: 0.9895 - val_loss: 0.2172 - val_accuracy: 0.9980\n",
            "Epoch 15/60\n",
            "938/938 [==============================] - 1s 1ms/step - loss: 2.4055 - accuracy: 0.9876 - val_loss: 0.1870 - val_accuracy: 0.9977\n",
            "Epoch 16/60\n",
            "938/938 [==============================] - 1s 1ms/step - loss: 3.1414 - accuracy: 0.9878 - val_loss: 0.8443 - val_accuracy: 0.9975\n",
            "Epoch 17/60\n",
            "938/938 [==============================] - 1s 1ms/step - loss: 2.2412 - accuracy: 0.9881 - val_loss: 0.1916 - val_accuracy: 0.9980\n",
            "Epoch 18/60\n",
            "938/938 [==============================] - 1s 1ms/step - loss: 2.1838 - accuracy: 0.9866 - val_loss: 0.2490 - val_accuracy: 0.9983\n",
            "Epoch 19/60\n",
            "938/938 [==============================] - 1s 1ms/step - loss: 1.7340 - accuracy: 0.9877 - val_loss: 1.0625 - val_accuracy: 0.9973\n",
            "Epoch 20/60\n",
            "938/938 [==============================] - 1s 1ms/step - loss: 1.8954 - accuracy: 0.9910 - val_loss: 0.2083 - val_accuracy: 0.9981\n",
            "Epoch 21/60\n",
            "938/938 [==============================] - 1s 1ms/step - loss: 1.4703 - accuracy: 0.9906 - val_loss: 1.1946 - val_accuracy: 0.9971\n",
            "Epoch 22/60\n",
            "938/938 [==============================] - 1s 1ms/step - loss: 1.2252 - accuracy: 0.9917 - val_loss: 0.6017 - val_accuracy: 0.9972\n",
            "Epoch 23/60\n",
            "938/938 [==============================] - 1s 1ms/step - loss: 1.8030 - accuracy: 0.9892 - val_loss: 0.1290 - val_accuracy: 0.9980\n",
            "Epoch 24/60\n",
            "938/938 [==============================] - 1s 1ms/step - loss: 2.3925 - accuracy: 0.9859 - val_loss: 0.2791 - val_accuracy: 0.9980\n",
            "Epoch 25/60\n",
            "938/938 [==============================] - 1s 1ms/step - loss: 1.5858 - accuracy: 0.9889 - val_loss: 0.6559 - val_accuracy: 0.9975\n",
            "Epoch 26/60\n",
            "938/938 [==============================] - 1s 1ms/step - loss: 1.2362 - accuracy: 0.9911 - val_loss: 0.3666 - val_accuracy: 0.9976\n",
            "Epoch 27/60\n",
            "938/938 [==============================] - 1s 1ms/step - loss: 0.8616 - accuracy: 0.9903 - val_loss: 0.5541 - val_accuracy: 0.9973\n",
            "Epoch 28/60\n",
            "938/938 [==============================] - 1s 1ms/step - loss: 1.6345 - accuracy: 0.9909 - val_loss: 0.3553 - val_accuracy: 0.9977\n",
            "Epoch 29/60\n",
            "938/938 [==============================] - 1s 1ms/step - loss: 0.9819 - accuracy: 0.9895 - val_loss: 0.3435 - val_accuracy: 0.9977\n",
            "Epoch 30/60\n",
            "938/938 [==============================] - 1s 1ms/step - loss: 1.2106 - accuracy: 0.9905 - val_loss: 0.3405 - val_accuracy: 0.9977\n",
            "Epoch 31/60\n",
            "938/938 [==============================] - 1s 1ms/step - loss: 1.0723 - accuracy: 0.9888 - val_loss: 0.2844 - val_accuracy: 0.9977\n",
            "Epoch 32/60\n",
            "938/938 [==============================] - 1s 1ms/step - loss: 1.5253 - accuracy: 0.9886 - val_loss: 0.2705 - val_accuracy: 0.9977\n",
            "Epoch 33/60\n",
            "938/938 [==============================] - 1s 1ms/step - loss: 1.2086 - accuracy: 0.9863 - val_loss: 0.2859 - val_accuracy: 0.9977\n",
            "Epoch 34/60\n",
            "938/938 [==============================] - 1s 1ms/step - loss: 0.7740 - accuracy: 0.9936 - val_loss: 0.4129 - val_accuracy: 0.9975\n",
            "Epoch 35/60\n",
            "938/938 [==============================] - 1s 1ms/step - loss: 0.9408 - accuracy: 0.9875 - val_loss: 0.1277 - val_accuracy: 0.9985\n",
            "Epoch 36/60\n",
            "938/938 [==============================] - 1s 1ms/step - loss: 0.6414 - accuracy: 0.9908 - val_loss: 0.0870 - val_accuracy: 0.9979\n",
            "Epoch 37/60\n",
            "938/938 [==============================] - 1s 1ms/step - loss: 0.7915 - accuracy: 0.9912 - val_loss: 0.3140 - val_accuracy: 0.9981\n",
            "Epoch 38/60\n",
            "938/938 [==============================] - 1s 1ms/step - loss: 1.2492 - accuracy: 0.9909 - val_loss: 0.1394 - val_accuracy: 0.9985\n",
            "Epoch 39/60\n",
            "938/938 [==============================] - 1s 1ms/step - loss: 0.7149 - accuracy: 0.9886 - val_loss: 0.0705 - val_accuracy: 0.9985\n",
            "Epoch 40/60\n",
            "938/938 [==============================] - 1s 1ms/step - loss: 0.6942 - accuracy: 0.9908 - val_loss: 0.2111 - val_accuracy: 0.9983\n",
            "Epoch 41/60\n",
            "938/938 [==============================] - 1s 1ms/step - loss: 0.4982 - accuracy: 0.9924 - val_loss: 0.1800 - val_accuracy: 0.9983\n",
            "Epoch 42/60\n",
            "938/938 [==============================] - 1s 1ms/step - loss: 0.5197 - accuracy: 0.9918 - val_loss: 0.1115 - val_accuracy: 0.9985\n",
            "Epoch 43/60\n",
            "938/938 [==============================] - 1s 1ms/step - loss: 0.4497 - accuracy: 0.9934 - val_loss: 0.3059 - val_accuracy: 0.9975\n",
            "Epoch 44/60\n",
            "938/938 [==============================] - 1s 1ms/step - loss: 0.7071 - accuracy: 0.9891 - val_loss: 0.0541 - val_accuracy: 0.9984\n",
            "Epoch 45/60\n",
            "938/938 [==============================] - 1s 1ms/step - loss: 0.5855 - accuracy: 0.9922 - val_loss: 0.0766 - val_accuracy: 0.9985\n",
            "Epoch 46/60\n",
            "938/938 [==============================] - 1s 1ms/step - loss: 0.3447 - accuracy: 0.9886 - val_loss: 0.0649 - val_accuracy: 0.9985\n",
            "Epoch 47/60\n",
            "938/938 [==============================] - 1s 1ms/step - loss: 0.3926 - accuracy: 0.9889 - val_loss: 0.1211 - val_accuracy: 0.9979\n",
            "Epoch 48/60\n",
            "938/938 [==============================] - 1s 1ms/step - loss: 0.4286 - accuracy: 0.9907 - val_loss: 0.1101 - val_accuracy: 0.9971\n",
            "Epoch 49/60\n",
            "938/938 [==============================] - 1s 1ms/step - loss: 0.2553 - accuracy: 0.9951 - val_loss: 0.0276 - val_accuracy: 0.9987\n",
            "Epoch 50/60\n",
            "938/938 [==============================] - 1s 1ms/step - loss: 0.2369 - accuracy: 0.9935 - val_loss: 0.3449 - val_accuracy: 0.9971\n",
            "Epoch 51/60\n",
            "938/938 [==============================] - 1s 2ms/step - loss: 0.4006 - accuracy: 0.9896 - val_loss: 0.0342 - val_accuracy: 0.9980\n",
            "Epoch 52/60\n",
            "938/938 [==============================] - 1s 1ms/step - loss: 0.3031 - accuracy: 0.9905 - val_loss: 0.0479 - val_accuracy: 0.9976\n",
            "Epoch 53/60\n",
            "938/938 [==============================] - 1s 1ms/step - loss: 0.1689 - accuracy: 0.9940 - val_loss: 0.0159 - val_accuracy: 0.9985\n",
            "Epoch 54/60\n",
            "938/938 [==============================] - 1s 1ms/step - loss: 0.2119 - accuracy: 0.9915 - val_loss: 0.0785 - val_accuracy: 0.9971\n",
            "Epoch 55/60\n",
            "938/938 [==============================] - 1s 1ms/step - loss: 0.1719 - accuracy: 0.9937 - val_loss: 0.0259 - val_accuracy: 0.9984\n",
            "Epoch 56/60\n",
            "938/938 [==============================] - 1s 1ms/step - loss: 0.0740 - accuracy: 0.9970 - val_loss: 0.0185 - val_accuracy: 0.9973\n",
            "Epoch 57/60\n",
            "938/938 [==============================] - 1s 1ms/step - loss: 0.1173 - accuracy: 0.9930 - val_loss: 0.2249 - val_accuracy: 0.9985\n",
            "Epoch 58/60\n",
            "938/938 [==============================] - 1s 1ms/step - loss: 0.2570 - accuracy: 0.9910 - val_loss: 0.0172 - val_accuracy: 0.9984\n",
            "Epoch 59/60\n",
            "938/938 [==============================] - 1s 1ms/step - loss: 0.0808 - accuracy: 0.9965 - val_loss: 0.0214 - val_accuracy: 0.9985\n",
            "Epoch 60/60\n",
            "938/938 [==============================] - 1s 1ms/step - loss: 0.2088 - accuracy: 0.9906 - val_loss: 0.0201 - val_accuracy: 0.9984\n"
          ],
          "name": "stdout"
        }
      ]
    },
    {
      "cell_type": "code",
      "metadata": {
        "colab": {
          "base_uri": "https://localhost:8080/"
        },
        "id": "GKlkTXrC5WYI",
        "outputId": "b2cfd31a-86d2-45f2-9521-41ee9b64504c"
      },
      "source": [
        "test_loss,test_acc=model.evaluate(test_data,test_labels)\n",
        "print(\"test_loss:\",test_loss,\"test_accuracy:\",test_acc)\n"
      ],
      "execution_count": 46,
      "outputs": [
        {
          "output_type": "stream",
          "text": [
            "503/503 [==============================] - 0s 867us/step - loss: 0.0256 - accuracy: 0.9988\n",
            "test_loss: 0.025621745735406876 test_accuracy: 0.9988178014755249\n"
          ],
          "name": "stdout"
        }
      ]
    },
    {
      "cell_type": "code",
      "metadata": {
        "id": "JZ6aCZi3-FyD",
        "colab": {
          "base_uri": "https://localhost:8080/"
        },
        "outputId": "c1cbd82f-6fa3-47e1-fb24-65f1a81f5a08"
      },
      "source": [
        "model.predict(test_data)\n"
      ],
      "execution_count": 47,
      "outputs": [
        {
          "output_type": "execute_result",
          "data": {
            "text/plain": [
              "array([[2.0667255e-19],\n",
              "       [1.0283752e-09],\n",
              "       [9.1551788e-18],\n",
              "       ...,\n",
              "       [4.6377209e-20],\n",
              "       [8.3680176e-29],\n",
              "       [1.2238698e-17]], dtype=float32)"
            ]
          },
          "metadata": {
            "tags": []
          },
          "execution_count": 47
        }
      ]
    },
    {
      "cell_type": "code",
      "metadata": {
        "id": "-9lK8eBimOt0"
      },
      "source": [
        " history_dict = history.history"
      ],
      "execution_count": 48,
      "outputs": []
    },
    {
      "cell_type": "code",
      "metadata": {
        "colab": {
          "base_uri": "https://localhost:8080/"
        },
        "id": "jzqH7sDmOojE",
        "outputId": "368ab421-b47b-43c6-fc1c-6c0cff374399"
      },
      "source": [
        "history_dict.keys()"
      ],
      "execution_count": 49,
      "outputs": [
        {
          "output_type": "execute_result",
          "data": {
            "text/plain": [
              "dict_keys(['loss', 'accuracy', 'val_loss', 'val_accuracy'])"
            ]
          },
          "metadata": {
            "tags": []
          },
          "execution_count": 49
        }
      ]
    },
    {
      "cell_type": "code",
      "metadata": {
        "colab": {
          "base_uri": "https://localhost:8080/",
          "height": 295
        },
        "id": "z-_zBs4ZS7Zi",
        "outputId": "24427412-9f6a-4b92-e706-bea88912e3ba"
      },
      "source": [
        "import matplotlib.pyplot as plt\n",
        "history_dict = history.history\n",
        "loss_values = history_dict['loss'] \n",
        "val_loss_values = history_dict['val_loss'] \n",
        "epochs = range(60)\n",
        "plt.plot(epochs, loss_values, 'bo', label='Training loss')\n",
        "plt.plot(epochs, val_loss_values, 'b', label='Validation loss') \n",
        "plt.title('Training and validation accuracy')\n",
        "plt.xlabel('Epochs')\n",
        "plt.ylabel('Loss') \n",
        "plt.legend()\n",
        "plt.show()"
      ],
      "execution_count": 50,
      "outputs": [
        {
          "output_type": "display_data",
          "data": {
            "image/png": "[encoded data removed]",
            "text/plain": [
              "<Figure size 432x288 with 1 Axes>"
            ]
          },
          "metadata": {
            "tags": [],
            "needs_background": "light"
          }
        }
      ]
    },
    {
      "cell_type": "code",
      "metadata": {
        "colab": {
          "base_uri": "https://localhost:8080/",
          "height": 295
        },
        "id": "P9WHKr0YPUKn",
        "outputId": "b66034aa-f774-4a56-8a03-6a5c18500876"
      },
      "source": [
        "acc_values = history_dict['accuracy'] \n",
        "val_acc_values = history_dict['val_accuracy'] \n",
        "plt.plot(epochs, acc_values, 'bo', label='Training acc')\n",
        "plt.plot(epochs, val_acc_values, 'b', label='Validation acc') \n",
        "plt.title('Training and validation accuracy')\n",
        "plt.xlabel('Epochs')\n",
        "plt.ylabel('accuracy') \n",
        "plt.legend()\n",
        "plt.show()"
      ],
      "execution_count": 51,
      "outputs": [
        {
          "output_type": "display_data",
          "data": {
            "image/png": "[encoded data removed]",
            "text/plain": [
              "<Figure size 432x288 with 1 Axes>"
            ]
          },
          "metadata": {
            "tags": [],
            "needs_background": "light"
          }
        }
      ]
    },
    {
      "cell_type": "code",
      "metadata": {
        "id": "ykh9rosuSXuP",
        "colab": {
          "base_uri": "https://localhost:8080/"
        },
        "outputId": "72de7865-56db-4be1-be63-c415394e864f"
      },
      "source": [
        "model.predict(test_data)[2]"
      ],
      "execution_count": null,
      "outputs": [
        {
          "output_type": "execute_result",
          "data": {
            "text/plain": [
              "array([2.0422345e-19], dtype=float32)"
            ]
          },
          "metadata": {
            "tags": []
          },
          "execution_count": 51
        }
      ]
    },
    {
      "cell_type": "code",
      "metadata": {
        "id": "tgrvdYpsnhu8"
      },
      "source": [
        ""
      ],
      "execution_count": null,
      "outputs": []
    }
  ]
}